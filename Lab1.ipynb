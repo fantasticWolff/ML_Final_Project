{
 "cells": [
  {
   "cell_type": "code",
   "execution_count": null,
   "metadata": {},
   "outputs": [],
   "source": [
    "import pandas as pd\n",
    "import numpy as np\n",
    "import matplotlib.pyplot as plt\n",
    "import seaborn as sns\n",
    "import time\n",
    "from sklearn.model_selection import KFold"
   ]
  },
  {
   "cell_type": "code",
   "execution_count": null,
   "metadata": {},
   "outputs": [],
   "source": [
    "train = pd.read_csv(\"./data/kddcup.data_10_percent.txt\", low_memory=False)\n",
    "# train = pd.read_csv(\"./data/kddcup.data.txt\", low_memory=False)\n",
    "test = pd.read_csv(\"./data/corrected\", low_memory=False)"
   ]
  },
  {
   "cell_type": "code",
   "execution_count": null,
   "metadata": {
    "scrolled": true
   },
   "outputs": [],
   "source": [
    "train.head(10)"
   ]
  },
  {
   "cell_type": "code",
   "execution_count": null,
   "metadata": {},
   "outputs": [],
   "source": [
    "print(train.shape)\n",
    "print(test.shape)"
   ]
  },
  {
   "cell_type": "code",
   "execution_count": null,
   "metadata": {
    "scrolled": false
   },
   "outputs": [],
   "source": [
    "print(train.shape)\n",
    "print(test.shape)\n",
    "train = train.drop_duplicates()\n",
    "print(train.shape)\n",
    "# Both two sets contain result feild"
   ]
  },
  {
   "cell_type": "code",
   "execution_count": null,
   "metadata": {},
   "outputs": [],
   "source": [
    "# for i in range(train.shape[0]):\n",
    "#     if train.loc[i].shape[0] != 42:\n",
    "#         print (i)"
   ]
  },
  {
   "cell_type": "markdown",
   "metadata": {},
   "source": [
    "# Map attack type into five classes"
   ]
  },
  {
   "cell_type": "code",
   "execution_count": null,
   "metadata": {},
   "outputs": [],
   "source": [
    "train.loc[(train.result == 'back.'), 'result'] = 'dos'\n",
    "train.loc[(train.result == 'buffer_overflow.'), 'result'] = 'u2r'\n",
    "train.loc[(train.result == 'ftp_write.'), 'result'] = 'r2l'\n",
    "train.loc[(train.result == 'guess_passwd.'), 'result'] = 'r2l'\n",
    "train.loc[(train.result == 'imap.'), 'result'] = 'r2l'\n",
    "train.loc[(train.result == 'ipsweep.'), 'result'] = 'probe'\n",
    "train.loc[(train.result == 'land.'), 'result'] = 'dos'\n",
    "train.loc[(train.result == 'loadmodule.'), 'result'] = 'u2r'\n",
    "train.loc[(train.result == 'multihop.'), 'result'] = 'r2l'\n",
    "train.loc[(train.result == 'neptune.'), 'result'] = 'dos'\n",
    "train.loc[(train.result == 'nmap.'), 'result'] = 'probe'\n",
    "train.loc[(train.result == 'perl.'), 'result'] = 'u2r'\n",
    "train.loc[(train.result == 'phf.'), 'result'] = 'r2l'\n",
    "train.loc[(train.result == 'pod.'), 'result'] = 'dos'\n",
    "train.loc[(train.result == 'portsweep.'), 'result'] = 'probe'\n",
    "train.loc[(train.result == 'rootkit.'), 'result'] = 'u2r'\n",
    "train.loc[(train.result == 'satan.'), 'result'] = 'probe'\n",
    "train.loc[(train.result == 'smurf.'), 'result'] = 'dos'\n",
    "train.loc[(train.result == 'spy.'), 'result'] = 'r2l'\n",
    "train.loc[(train.result == 'teardrop.'), 'result'] = 'dos'\n",
    "train.loc[(train.result == 'warezclient.'), 'result'] = 'r2l'\n",
    "train.loc[(train.result == 'warezmaster.'), 'result'] = 'r2l'"
   ]
  },
  {
   "cell_type": "code",
   "execution_count": null,
   "metadata": {},
   "outputs": [],
   "source": [
    "test.loc[(test.result == 'apache2.'), 'result'] = 'dos'\n",
    "test.loc[(test.result == 'back.'), 'result'] = 'dos'\n",
    "test.loc[(test.result == 'buffer_overflow.'), 'result'] = 'u2r'\n",
    "test.loc[(test.result == 'ftp_write.'), 'result'] = 'r2l'\n",
    "test.loc[(test.result == 'guess_passwd.'), 'result'] = 'r2l'\n",
    "# duplicate\n",
    "test.loc[(test.result == 'httptunnel.'), 'result'] = 'r2l'\n",
    "test.loc[(test.result == 'httptunnel.'), 'result'] = 'u2r'\n",
    "\n",
    "test.loc[(test.result == 'imap.'), 'result'] = 'r2l'\n",
    "test.loc[(test.result == 'ipsweep.'), 'result'] = 'probe'\n",
    "test.loc[(test.result == 'land.'), 'result'] = 'dos'\n",
    "test.loc[(test.result == 'loadmodule.'), 'result'] = 'u2r'\n",
    "test.loc[(test.result == 'mailbomb.'), 'result'] = 'dos'\n",
    "test.loc[(test.result == 'mscan.'), 'result'] = 'probe'\n",
    "# duplicate\n",
    "test.loc[(test.result == 'multihop.'), 'result'] = 'r2l'\n",
    "test.loc[(test.result == 'multihop.'), 'result'] = 'u2r'\n",
    "\n",
    "test.loc[(test.result == 'named.'), 'result'] = 'r2l'\n",
    "test.loc[(test.result == 'neptune.'), 'result'] = 'dos'\n",
    "test.loc[(test.result == 'nmap.'), 'result'] = 'probe'\n",
    "test.loc[(test.result == 'perl.'), 'result'] = 'u2r'\n",
    "test.loc[(test.result == 'phf.'), 'result'] = 'r2l'\n",
    "test.loc[(test.result == 'pod.'), 'result'] = 'dos'\n",
    "test.loc[(test.result == 'portsweep.'), 'result'] = 'probe'\n",
    "test.loc[(test.result == 'processtable.'), 'result'] = 'dos'\n",
    "test.loc[(test.result == 'ps.'), 'result'] = 'u2r'\n",
    "test.loc[(test.result == 'rootkit.'), 'result'] = 'u2r'\n",
    "test.loc[(test.result == 'saint.'), 'result'] = 'probe'\n",
    "test.loc[(test.result == 'satan.'), 'result'] = 'probe'\n",
    "test.loc[(test.result == 'sendmail.'), 'result'] = 'r2l'\n",
    "test.loc[(test.result == 'smurf.'), 'result'] = 'dos'\n",
    "test.loc[(test.result == 'snmpgetattack.'), 'result'] = 'r2l'\n",
    "test.loc[(test.result == 'snmpguess.'), 'result'] = 'r2l'\n",
    "test.loc[(test.result == 'sqlattack.'), 'result'] = 'u2r'\n",
    "test.loc[(test.result == 'teardrop.'), 'result'] = 'dos'\n",
    "test.loc[(test.result == 'udpstorm.'), 'result'] = 'dos'\n",
    "test.loc[(test.result == 'warezmaster.'), 'result'] = 'dos'\n",
    "test.loc[(test.result == 'worm.'), 'result'] = 'r2l'\n",
    "test.loc[(test.result == 'xlock.'), 'result'] = 'r2l'\n",
    "test.loc[(test.result == 'xsnoop.'), 'result'] = 'r2l'\n",
    "test.loc[(test.result == 'xterm.'), 'result'] = 'u2r'"
   ]
  },
  {
   "cell_type": "code",
   "execution_count": 8,
   "metadata": {},
   "outputs": [
    {
     "data": {
      "text/html": [
       "<div>\n",
       "<style scoped>\n",
       "    .dataframe tbody tr th:only-of-type {\n",
       "        vertical-align: middle;\n",
       "    }\n",
       "\n",
       "    .dataframe tbody tr th {\n",
       "        vertical-align: top;\n",
       "    }\n",
       "\n",
       "    .dataframe thead th {\n",
       "        text-align: right;\n",
       "    }\n",
       "</style>\n",
       "<table border=\"1\" class=\"dataframe\">\n",
       "  <thead>\n",
       "    <tr style=\"text-align: right;\">\n",
       "      <th></th>\n",
       "      <th>duration</th>\n",
       "      <th>protocol_type</th>\n",
       "      <th>service</th>\n",
       "      <th>flag</th>\n",
       "      <th>src_bytes</th>\n",
       "      <th>dst_bytes</th>\n",
       "      <th>land</th>\n",
       "      <th>wrong_fragment</th>\n",
       "      <th>urgent</th>\n",
       "      <th>hot</th>\n",
       "      <th>...</th>\n",
       "      <th>dst_host_srv_count</th>\n",
       "      <th>dst_host_same_srv_rate</th>\n",
       "      <th>dst_host_diff_srv_rate</th>\n",
       "      <th>dst_host_same_src_port_rate</th>\n",
       "      <th>dst_host_srv_diff_host_rate</th>\n",
       "      <th>dst_host_serror_rate</th>\n",
       "      <th>dst_host_srv_serror_rate</th>\n",
       "      <th>dst_host_rerror_rate</th>\n",
       "      <th>dst_host_srv_rerror_rate</th>\n",
       "      <th>result</th>\n",
       "    </tr>\n",
       "  </thead>\n",
       "  <tbody>\n",
       "    <tr>\n",
       "      <th>0</th>\n",
       "      <td>0</td>\n",
       "      <td>tcp</td>\n",
       "      <td>http</td>\n",
       "      <td>SF</td>\n",
       "      <td>181</td>\n",
       "      <td>5450</td>\n",
       "      <td>0</td>\n",
       "      <td>0</td>\n",
       "      <td>0</td>\n",
       "      <td>0</td>\n",
       "      <td>...</td>\n",
       "      <td>9</td>\n",
       "      <td>1.0</td>\n",
       "      <td>0.0</td>\n",
       "      <td>0.11</td>\n",
       "      <td>0.00</td>\n",
       "      <td>0.0</td>\n",
       "      <td>0.0</td>\n",
       "      <td>0.0</td>\n",
       "      <td>0.0</td>\n",
       "      <td>normal.</td>\n",
       "    </tr>\n",
       "    <tr>\n",
       "      <th>1</th>\n",
       "      <td>0</td>\n",
       "      <td>tcp</td>\n",
       "      <td>http</td>\n",
       "      <td>SF</td>\n",
       "      <td>239</td>\n",
       "      <td>486</td>\n",
       "      <td>0</td>\n",
       "      <td>0</td>\n",
       "      <td>0</td>\n",
       "      <td>0</td>\n",
       "      <td>...</td>\n",
       "      <td>19</td>\n",
       "      <td>1.0</td>\n",
       "      <td>0.0</td>\n",
       "      <td>0.05</td>\n",
       "      <td>0.00</td>\n",
       "      <td>0.0</td>\n",
       "      <td>0.0</td>\n",
       "      <td>0.0</td>\n",
       "      <td>0.0</td>\n",
       "      <td>normal.</td>\n",
       "    </tr>\n",
       "    <tr>\n",
       "      <th>2</th>\n",
       "      <td>0</td>\n",
       "      <td>tcp</td>\n",
       "      <td>http</td>\n",
       "      <td>SF</td>\n",
       "      <td>235</td>\n",
       "      <td>1337</td>\n",
       "      <td>0</td>\n",
       "      <td>0</td>\n",
       "      <td>0</td>\n",
       "      <td>0</td>\n",
       "      <td>...</td>\n",
       "      <td>29</td>\n",
       "      <td>1.0</td>\n",
       "      <td>0.0</td>\n",
       "      <td>0.03</td>\n",
       "      <td>0.00</td>\n",
       "      <td>0.0</td>\n",
       "      <td>0.0</td>\n",
       "      <td>0.0</td>\n",
       "      <td>0.0</td>\n",
       "      <td>normal.</td>\n",
       "    </tr>\n",
       "    <tr>\n",
       "      <th>3</th>\n",
       "      <td>0</td>\n",
       "      <td>tcp</td>\n",
       "      <td>http</td>\n",
       "      <td>SF</td>\n",
       "      <td>219</td>\n",
       "      <td>1337</td>\n",
       "      <td>0</td>\n",
       "      <td>0</td>\n",
       "      <td>0</td>\n",
       "      <td>0</td>\n",
       "      <td>...</td>\n",
       "      <td>39</td>\n",
       "      <td>1.0</td>\n",
       "      <td>0.0</td>\n",
       "      <td>0.03</td>\n",
       "      <td>0.00</td>\n",
       "      <td>0.0</td>\n",
       "      <td>0.0</td>\n",
       "      <td>0.0</td>\n",
       "      <td>0.0</td>\n",
       "      <td>normal.</td>\n",
       "    </tr>\n",
       "    <tr>\n",
       "      <th>4</th>\n",
       "      <td>0</td>\n",
       "      <td>tcp</td>\n",
       "      <td>http</td>\n",
       "      <td>SF</td>\n",
       "      <td>217</td>\n",
       "      <td>2032</td>\n",
       "      <td>0</td>\n",
       "      <td>0</td>\n",
       "      <td>0</td>\n",
       "      <td>0</td>\n",
       "      <td>...</td>\n",
       "      <td>49</td>\n",
       "      <td>1.0</td>\n",
       "      <td>0.0</td>\n",
       "      <td>0.02</td>\n",
       "      <td>0.00</td>\n",
       "      <td>0.0</td>\n",
       "      <td>0.0</td>\n",
       "      <td>0.0</td>\n",
       "      <td>0.0</td>\n",
       "      <td>normal.</td>\n",
       "    </tr>\n",
       "    <tr>\n",
       "      <th>5</th>\n",
       "      <td>0</td>\n",
       "      <td>tcp</td>\n",
       "      <td>http</td>\n",
       "      <td>SF</td>\n",
       "      <td>217</td>\n",
       "      <td>2032</td>\n",
       "      <td>0</td>\n",
       "      <td>0</td>\n",
       "      <td>0</td>\n",
       "      <td>0</td>\n",
       "      <td>...</td>\n",
       "      <td>59</td>\n",
       "      <td>1.0</td>\n",
       "      <td>0.0</td>\n",
       "      <td>0.02</td>\n",
       "      <td>0.00</td>\n",
       "      <td>0.0</td>\n",
       "      <td>0.0</td>\n",
       "      <td>0.0</td>\n",
       "      <td>0.0</td>\n",
       "      <td>normal.</td>\n",
       "    </tr>\n",
       "    <tr>\n",
       "      <th>6</th>\n",
       "      <td>0</td>\n",
       "      <td>tcp</td>\n",
       "      <td>http</td>\n",
       "      <td>SF</td>\n",
       "      <td>212</td>\n",
       "      <td>1940</td>\n",
       "      <td>0</td>\n",
       "      <td>0</td>\n",
       "      <td>0</td>\n",
       "      <td>0</td>\n",
       "      <td>...</td>\n",
       "      <td>69</td>\n",
       "      <td>1.0</td>\n",
       "      <td>0.0</td>\n",
       "      <td>1.00</td>\n",
       "      <td>0.04</td>\n",
       "      <td>0.0</td>\n",
       "      <td>0.0</td>\n",
       "      <td>0.0</td>\n",
       "      <td>0.0</td>\n",
       "      <td>normal.</td>\n",
       "    </tr>\n",
       "    <tr>\n",
       "      <th>7</th>\n",
       "      <td>0</td>\n",
       "      <td>tcp</td>\n",
       "      <td>http</td>\n",
       "      <td>SF</td>\n",
       "      <td>159</td>\n",
       "      <td>4087</td>\n",
       "      <td>0</td>\n",
       "      <td>0</td>\n",
       "      <td>0</td>\n",
       "      <td>0</td>\n",
       "      <td>...</td>\n",
       "      <td>79</td>\n",
       "      <td>1.0</td>\n",
       "      <td>0.0</td>\n",
       "      <td>0.09</td>\n",
       "      <td>0.04</td>\n",
       "      <td>0.0</td>\n",
       "      <td>0.0</td>\n",
       "      <td>0.0</td>\n",
       "      <td>0.0</td>\n",
       "      <td>normal.</td>\n",
       "    </tr>\n",
       "    <tr>\n",
       "      <th>8</th>\n",
       "      <td>0</td>\n",
       "      <td>tcp</td>\n",
       "      <td>http</td>\n",
       "      <td>SF</td>\n",
       "      <td>210</td>\n",
       "      <td>151</td>\n",
       "      <td>0</td>\n",
       "      <td>0</td>\n",
       "      <td>0</td>\n",
       "      <td>0</td>\n",
       "      <td>...</td>\n",
       "      <td>89</td>\n",
       "      <td>1.0</td>\n",
       "      <td>0.0</td>\n",
       "      <td>0.12</td>\n",
       "      <td>0.04</td>\n",
       "      <td>0.0</td>\n",
       "      <td>0.0</td>\n",
       "      <td>0.0</td>\n",
       "      <td>0.0</td>\n",
       "      <td>normal.</td>\n",
       "    </tr>\n",
       "    <tr>\n",
       "      <th>9</th>\n",
       "      <td>0</td>\n",
       "      <td>tcp</td>\n",
       "      <td>http</td>\n",
       "      <td>SF</td>\n",
       "      <td>212</td>\n",
       "      <td>786</td>\n",
       "      <td>0</td>\n",
       "      <td>0</td>\n",
       "      <td>0</td>\n",
       "      <td>1</td>\n",
       "      <td>...</td>\n",
       "      <td>99</td>\n",
       "      <td>1.0</td>\n",
       "      <td>0.0</td>\n",
       "      <td>0.12</td>\n",
       "      <td>0.05</td>\n",
       "      <td>0.0</td>\n",
       "      <td>0.0</td>\n",
       "      <td>0.0</td>\n",
       "      <td>0.0</td>\n",
       "      <td>normal.</td>\n",
       "    </tr>\n",
       "  </tbody>\n",
       "</table>\n",
       "<p>10 rows × 42 columns</p>\n",
       "</div>"
      ],
      "text/plain": [
       "   duration protocol_type service flag  src_bytes  dst_bytes  land  \\\n",
       "0         0           tcp    http   SF        181       5450     0   \n",
       "1         0           tcp    http   SF        239        486     0   \n",
       "2         0           tcp    http   SF        235       1337     0   \n",
       "3         0           tcp    http   SF        219       1337     0   \n",
       "4         0           tcp    http   SF        217       2032     0   \n",
       "5         0           tcp    http   SF        217       2032     0   \n",
       "6         0           tcp    http   SF        212       1940     0   \n",
       "7         0           tcp    http   SF        159       4087     0   \n",
       "8         0           tcp    http   SF        210        151     0   \n",
       "9         0           tcp    http   SF        212        786     0   \n",
       "\n",
       "   wrong_fragment  urgent  hot  ...  dst_host_srv_count  \\\n",
       "0               0       0    0  ...                   9   \n",
       "1               0       0    0  ...                  19   \n",
       "2               0       0    0  ...                  29   \n",
       "3               0       0    0  ...                  39   \n",
       "4               0       0    0  ...                  49   \n",
       "5               0       0    0  ...                  59   \n",
       "6               0       0    0  ...                  69   \n",
       "7               0       0    0  ...                  79   \n",
       "8               0       0    0  ...                  89   \n",
       "9               0       0    1  ...                  99   \n",
       "\n",
       "   dst_host_same_srv_rate  dst_host_diff_srv_rate  \\\n",
       "0                     1.0                     0.0   \n",
       "1                     1.0                     0.0   \n",
       "2                     1.0                     0.0   \n",
       "3                     1.0                     0.0   \n",
       "4                     1.0                     0.0   \n",
       "5                     1.0                     0.0   \n",
       "6                     1.0                     0.0   \n",
       "7                     1.0                     0.0   \n",
       "8                     1.0                     0.0   \n",
       "9                     1.0                     0.0   \n",
       "\n",
       "   dst_host_same_src_port_rate  dst_host_srv_diff_host_rate  \\\n",
       "0                         0.11                         0.00   \n",
       "1                         0.05                         0.00   \n",
       "2                         0.03                         0.00   \n",
       "3                         0.03                         0.00   \n",
       "4                         0.02                         0.00   \n",
       "5                         0.02                         0.00   \n",
       "6                         1.00                         0.04   \n",
       "7                         0.09                         0.04   \n",
       "8                         0.12                         0.04   \n",
       "9                         0.12                         0.05   \n",
       "\n",
       "   dst_host_serror_rate  dst_host_srv_serror_rate  dst_host_rerror_rate  \\\n",
       "0                   0.0                       0.0                   0.0   \n",
       "1                   0.0                       0.0                   0.0   \n",
       "2                   0.0                       0.0                   0.0   \n",
       "3                   0.0                       0.0                   0.0   \n",
       "4                   0.0                       0.0                   0.0   \n",
       "5                   0.0                       0.0                   0.0   \n",
       "6                   0.0                       0.0                   0.0   \n",
       "7                   0.0                       0.0                   0.0   \n",
       "8                   0.0                       0.0                   0.0   \n",
       "9                   0.0                       0.0                   0.0   \n",
       "\n",
       "   dst_host_srv_rerror_rate   result  \n",
       "0                       0.0  normal.  \n",
       "1                       0.0  normal.  \n",
       "2                       0.0  normal.  \n",
       "3                       0.0  normal.  \n",
       "4                       0.0  normal.  \n",
       "5                       0.0  normal.  \n",
       "6                       0.0  normal.  \n",
       "7                       0.0  normal.  \n",
       "8                       0.0  normal.  \n",
       "9                       0.0  normal.  \n",
       "\n",
       "[10 rows x 42 columns]"
      ]
     },
     "execution_count": 8,
     "metadata": {},
     "output_type": "execute_result"
    }
   ],
   "source": [
    "train.head(10)"
   ]
  },
  {
   "cell_type": "markdown",
   "metadata": {},
   "source": [
    "# Check missing value of two sets"
   ]
  },
  {
   "cell_type": "code",
   "execution_count": null,
   "metadata": {},
   "outputs": [],
   "source": [
    "count_nu = train.isnull().sum()\n",
    "count_nu[count_nu > 0].sort_values(ascending=False)"
   ]
  },
  {
   "cell_type": "code",
   "execution_count": null,
   "metadata": {},
   "outputs": [],
   "source": [
    "count_nu = test.isnull().sum()\n",
    "count_nu[count_nu > 0].sort_values(ascending=False)"
   ]
  },
  {
   "cell_type": "code",
   "execution_count": null,
   "metadata": {},
   "outputs": [],
   "source": [
    "train_x = train.drop(['result'], axis = 1)\n",
    "train_y = train[['result']]\n",
    "test_x = test.drop(['result'], axis = 1)\n",
    "test_y = test[['result']]"
   ]
  },
  {
   "cell_type": "code",
   "execution_count": 12,
   "metadata": {
    "scrolled": true
   },
   "outputs": [
    {
     "data": {
      "text/plain": [
       "['duration',\n",
       " 'protocol_type',\n",
       " 'service',\n",
       " 'flag',\n",
       " 'src_bytes',\n",
       " 'dst_bytes',\n",
       " 'land',\n",
       " 'wrong_fragment',\n",
       " 'urgent',\n",
       " 'hot',\n",
       " 'num_failed_logins',\n",
       " 'logged_in',\n",
       " 'num_compromised',\n",
       " 'root_shell',\n",
       " 'su_attempted',\n",
       " 'num_root',\n",
       " 'num_file_creations',\n",
       " 'num_shells',\n",
       " 'num_access_files',\n",
       " 'num_outbound_cmds',\n",
       " 'is_host_login',\n",
       " 'is_guest_login',\n",
       " 'count',\n",
       " 'srv_count',\n",
       " 'serror_rate',\n",
       " 'srv_serror_rate',\n",
       " 'rerror_rate',\n",
       " 'srv_rerror_rate',\n",
       " 'same_srv_rate',\n",
       " 'diff_srv_rate',\n",
       " 'srv_diff_host_rate',\n",
       " 'dst_host_count',\n",
       " 'dst_host_srv_count',\n",
       " 'dst_host_same_srv_rate',\n",
       " 'dst_host_diff_srv_rate',\n",
       " 'dst_host_same_src_port_rate',\n",
       " 'dst_host_srv_diff_host_rate',\n",
       " 'dst_host_serror_rate',\n",
       " 'dst_host_srv_serror_rate',\n",
       " 'dst_host_rerror_rate',\n",
       " 'dst_host_srv_rerror_rate']"
      ]
     },
     "execution_count": 12,
     "metadata": {},
     "output_type": "execute_result"
    }
   ],
   "source": [
    "list(train_x)"
   ]
  },
  {
   "cell_type": "code",
   "execution_count": 13,
   "metadata": {},
   "outputs": [
    {
     "data": {
      "image/png": "[encoded data removed]",
      "text/plain": [
       "<Figure size 1440x1440 with 42 Axes>"
      ]
     },
     "metadata": {
      "needs_background": "light"
     },
     "output_type": "display_data"
    }
   ],
   "source": [
    "train_x.hist(figsize=(20, 20));"
   ]
  },
  {
   "cell_type": "code",
   "execution_count": null,
   "metadata": {
    "scrolled": false
   },
   "outputs": [],
   "source": [
    "feature = ['src_bytes', 'dst_bytes']\n",
    "train_x[feature].sort_values(ascending=False, by = feature)"
   ]
  },
  {
   "cell_type": "code",
   "execution_count": null,
   "metadata": {},
   "outputs": [],
   "source": [
    "train_x[feature].plot(subplots=True, layout=(1, 2), \n",
    "                  sharex=False, figsize=(10, 4))"
   ]
  },
  {
   "cell_type": "code",
   "execution_count": null,
   "metadata": {},
   "outputs": [],
   "source": [
    "import seaborn as sns\n",
    "sns.set()\n",
    "sns.distplot(np.log1p(train_x.src_bytes))"
   ]
  },
  {
   "cell_type": "code",
   "execution_count": 17,
   "metadata": {
    "scrolled": true
   },
   "outputs": [
    {
     "data": {
      "text/plain": [
       "<matplotlib.axes._subplots.AxesSubplot at 0x1c5130ad7c0>"
      ]
     },
     "execution_count": 17,
     "metadata": {},
     "output_type": "execute_result"
    },
    {
     "data": {
      "image/png": "[encoded data removed]",
      "text/plain": [
       "<Figure size 432x288 with 1 Axes>"
      ]
     },
     "metadata": {},
     "output_type": "display_data"
    }
   ],
   "source": [
    "sns.boxplot(data=np.log1p(train_x.src_bytes))"
   ]
  },
  {
   "cell_type": "code",
   "execution_count": 18,
   "metadata": {},
   "outputs": [
    {
     "data": {
      "text/html": [
       "<div>\n",
       "<style scoped>\n",
       "    .dataframe tbody tr th:only-of-type {\n",
       "        vertical-align: middle;\n",
       "    }\n",
       "\n",
       "    .dataframe tbody tr th {\n",
       "        vertical-align: top;\n",
       "    }\n",
       "\n",
       "    .dataframe thead th {\n",
       "        text-align: right;\n",
       "    }\n",
       "</style>\n",
       "<table border=\"1\" class=\"dataframe\">\n",
       "  <thead>\n",
       "    <tr style=\"text-align: right;\">\n",
       "      <th></th>\n",
       "      <th>duration</th>\n",
       "      <th>protocol_type</th>\n",
       "      <th>service</th>\n",
       "      <th>flag</th>\n",
       "      <th>src_bytes</th>\n",
       "      <th>dst_bytes</th>\n",
       "      <th>land</th>\n",
       "      <th>wrong_fragment</th>\n",
       "      <th>urgent</th>\n",
       "      <th>hot</th>\n",
       "      <th>...</th>\n",
       "      <th>dst_host_count</th>\n",
       "      <th>dst_host_srv_count</th>\n",
       "      <th>dst_host_same_srv_rate</th>\n",
       "      <th>dst_host_diff_srv_rate</th>\n",
       "      <th>dst_host_same_src_port_rate</th>\n",
       "      <th>dst_host_srv_diff_host_rate</th>\n",
       "      <th>dst_host_serror_rate</th>\n",
       "      <th>dst_host_srv_serror_rate</th>\n",
       "      <th>dst_host_rerror_rate</th>\n",
       "      <th>dst_host_srv_rerror_rate</th>\n",
       "    </tr>\n",
       "  </thead>\n",
       "  <tbody>\n",
       "    <tr>\n",
       "      <th>42063</th>\n",
       "      <td>2</td>\n",
       "      <td>tcp</td>\n",
       "      <td>finger</td>\n",
       "      <td>RSTO</td>\n",
       "      <td>693375640</td>\n",
       "      <td>0</td>\n",
       "      <td>0</td>\n",
       "      <td>0</td>\n",
       "      <td>0</td>\n",
       "      <td>1</td>\n",
       "      <td>...</td>\n",
       "      <td>255</td>\n",
       "      <td>3</td>\n",
       "      <td>0.01</td>\n",
       "      <td>0.09</td>\n",
       "      <td>0.22</td>\n",
       "      <td>0.00</td>\n",
       "      <td>0.18</td>\n",
       "      <td>0.67</td>\n",
       "      <td>0.05</td>\n",
       "      <td>0.33</td>\n",
       "    </tr>\n",
       "    <tr>\n",
       "      <th>142590</th>\n",
       "      <td>5057</td>\n",
       "      <td>tcp</td>\n",
       "      <td>ftp_data</td>\n",
       "      <td>SF</td>\n",
       "      <td>5135678</td>\n",
       "      <td>0</td>\n",
       "      <td>0</td>\n",
       "      <td>0</td>\n",
       "      <td>0</td>\n",
       "      <td>0</td>\n",
       "      <td>...</td>\n",
       "      <td>1</td>\n",
       "      <td>1</td>\n",
       "      <td>1.00</td>\n",
       "      <td>0.00</td>\n",
       "      <td>1.00</td>\n",
       "      <td>0.00</td>\n",
       "      <td>0.00</td>\n",
       "      <td>0.00</td>\n",
       "      <td>0.00</td>\n",
       "      <td>0.00</td>\n",
       "    </tr>\n",
       "    <tr>\n",
       "      <th>142173</th>\n",
       "      <td>5043</td>\n",
       "      <td>tcp</td>\n",
       "      <td>ftp_data</td>\n",
       "      <td>SF</td>\n",
       "      <td>5135678</td>\n",
       "      <td>0</td>\n",
       "      <td>0</td>\n",
       "      <td>0</td>\n",
       "      <td>0</td>\n",
       "      <td>2</td>\n",
       "      <td>...</td>\n",
       "      <td>5</td>\n",
       "      <td>46</td>\n",
       "      <td>1.00</td>\n",
       "      <td>0.00</td>\n",
       "      <td>1.00</td>\n",
       "      <td>0.04</td>\n",
       "      <td>0.00</td>\n",
       "      <td>0.02</td>\n",
       "      <td>0.00</td>\n",
       "      <td>0.00</td>\n",
       "    </tr>\n",
       "    <tr>\n",
       "      <th>142408</th>\n",
       "      <td>5040</td>\n",
       "      <td>tcp</td>\n",
       "      <td>ftp_data</td>\n",
       "      <td>SF</td>\n",
       "      <td>5135678</td>\n",
       "      <td>0</td>\n",
       "      <td>0</td>\n",
       "      <td>0</td>\n",
       "      <td>0</td>\n",
       "      <td>3</td>\n",
       "      <td>...</td>\n",
       "      <td>5</td>\n",
       "      <td>37</td>\n",
       "      <td>1.00</td>\n",
       "      <td>0.00</td>\n",
       "      <td>1.00</td>\n",
       "      <td>0.14</td>\n",
       "      <td>0.00</td>\n",
       "      <td>0.00</td>\n",
       "      <td>0.00</td>\n",
       "      <td>0.00</td>\n",
       "    </tr>\n",
       "    <tr>\n",
       "      <th>142454</th>\n",
       "      <td>5051</td>\n",
       "      <td>tcp</td>\n",
       "      <td>other</td>\n",
       "      <td>SF</td>\n",
       "      <td>5135678</td>\n",
       "      <td>0</td>\n",
       "      <td>0</td>\n",
       "      <td>0</td>\n",
       "      <td>0</td>\n",
       "      <td>2</td>\n",
       "      <td>...</td>\n",
       "      <td>7</td>\n",
       "      <td>1</td>\n",
       "      <td>0.14</td>\n",
       "      <td>0.29</td>\n",
       "      <td>1.00</td>\n",
       "      <td>0.00</td>\n",
       "      <td>0.00</td>\n",
       "      <td>0.00</td>\n",
       "      <td>0.00</td>\n",
       "      <td>0.00</td>\n",
       "    </tr>\n",
       "    <tr>\n",
       "      <th>...</th>\n",
       "      <td>...</td>\n",
       "      <td>...</td>\n",
       "      <td>...</td>\n",
       "      <td>...</td>\n",
       "      <td>...</td>\n",
       "      <td>...</td>\n",
       "      <td>...</td>\n",
       "      <td>...</td>\n",
       "      <td>...</td>\n",
       "      <td>...</td>\n",
       "      <td>...</td>\n",
       "      <td>...</td>\n",
       "      <td>...</td>\n",
       "      <td>...</td>\n",
       "      <td>...</td>\n",
       "      <td>...</td>\n",
       "      <td>...</td>\n",
       "      <td>...</td>\n",
       "      <td>...</td>\n",
       "      <td>...</td>\n",
       "      <td>...</td>\n",
       "    </tr>\n",
       "    <tr>\n",
       "      <th>365582</th>\n",
       "      <td>0</td>\n",
       "      <td>tcp</td>\n",
       "      <td>private</td>\n",
       "      <td>S0</td>\n",
       "      <td>0</td>\n",
       "      <td>0</td>\n",
       "      <td>0</td>\n",
       "      <td>0</td>\n",
       "      <td>0</td>\n",
       "      <td>0</td>\n",
       "      <td>...</td>\n",
       "      <td>255</td>\n",
       "      <td>5</td>\n",
       "      <td>0.02</td>\n",
       "      <td>0.06</td>\n",
       "      <td>0.00</td>\n",
       "      <td>0.00</td>\n",
       "      <td>1.00</td>\n",
       "      <td>1.00</td>\n",
       "      <td>0.00</td>\n",
       "      <td>0.00</td>\n",
       "    </tr>\n",
       "    <tr>\n",
       "      <th>365583</th>\n",
       "      <td>0</td>\n",
       "      <td>tcp</td>\n",
       "      <td>private</td>\n",
       "      <td>S0</td>\n",
       "      <td>0</td>\n",
       "      <td>0</td>\n",
       "      <td>0</td>\n",
       "      <td>0</td>\n",
       "      <td>0</td>\n",
       "      <td>0</td>\n",
       "      <td>...</td>\n",
       "      <td>255</td>\n",
       "      <td>14</td>\n",
       "      <td>0.05</td>\n",
       "      <td>0.06</td>\n",
       "      <td>0.00</td>\n",
       "      <td>0.00</td>\n",
       "      <td>1.00</td>\n",
       "      <td>1.00</td>\n",
       "      <td>0.00</td>\n",
       "      <td>0.00</td>\n",
       "    </tr>\n",
       "    <tr>\n",
       "      <th>365584</th>\n",
       "      <td>0</td>\n",
       "      <td>tcp</td>\n",
       "      <td>http_443</td>\n",
       "      <td>S0</td>\n",
       "      <td>0</td>\n",
       "      <td>0</td>\n",
       "      <td>0</td>\n",
       "      <td>0</td>\n",
       "      <td>0</td>\n",
       "      <td>0</td>\n",
       "      <td>...</td>\n",
       "      <td>255</td>\n",
       "      <td>4</td>\n",
       "      <td>0.02</td>\n",
       "      <td>0.06</td>\n",
       "      <td>0.00</td>\n",
       "      <td>0.00</td>\n",
       "      <td>1.00</td>\n",
       "      <td>1.00</td>\n",
       "      <td>0.00</td>\n",
       "      <td>0.00</td>\n",
       "    </tr>\n",
       "    <tr>\n",
       "      <th>365585</th>\n",
       "      <td>0</td>\n",
       "      <td>tcp</td>\n",
       "      <td>private</td>\n",
       "      <td>S0</td>\n",
       "      <td>0</td>\n",
       "      <td>0</td>\n",
       "      <td>0</td>\n",
       "      <td>0</td>\n",
       "      <td>0</td>\n",
       "      <td>0</td>\n",
       "      <td>...</td>\n",
       "      <td>255</td>\n",
       "      <td>1</td>\n",
       "      <td>0.00</td>\n",
       "      <td>0.06</td>\n",
       "      <td>0.00</td>\n",
       "      <td>0.00</td>\n",
       "      <td>1.00</td>\n",
       "      <td>1.00</td>\n",
       "      <td>0.00</td>\n",
       "      <td>0.00</td>\n",
       "    </tr>\n",
       "    <tr>\n",
       "      <th>359102</th>\n",
       "      <td>0</td>\n",
       "      <td>tcp</td>\n",
       "      <td>netstat</td>\n",
       "      <td>S0</td>\n",
       "      <td>0</td>\n",
       "      <td>0</td>\n",
       "      <td>0</td>\n",
       "      <td>0</td>\n",
       "      <td>0</td>\n",
       "      <td>0</td>\n",
       "      <td>...</td>\n",
       "      <td>255</td>\n",
       "      <td>10</td>\n",
       "      <td>0.04</td>\n",
       "      <td>0.08</td>\n",
       "      <td>0.00</td>\n",
       "      <td>0.00</td>\n",
       "      <td>1.00</td>\n",
       "      <td>1.00</td>\n",
       "      <td>0.00</td>\n",
       "      <td>0.00</td>\n",
       "    </tr>\n",
       "  </tbody>\n",
       "</table>\n",
       "<p>145586 rows × 41 columns</p>\n",
       "</div>"
      ],
      "text/plain": [
       "        duration protocol_type   service  flag  src_bytes  dst_bytes  land  \\\n",
       "42063          2           tcp    finger  RSTO  693375640          0     0   \n",
       "142590      5057           tcp  ftp_data    SF    5135678          0     0   \n",
       "142173      5043           tcp  ftp_data    SF    5135678          0     0   \n",
       "142408      5040           tcp  ftp_data    SF    5135678          0     0   \n",
       "142454      5051           tcp     other    SF    5135678          0     0   \n",
       "...          ...           ...       ...   ...        ...        ...   ...   \n",
       "365582         0           tcp   private    S0          0          0     0   \n",
       "365583         0           tcp   private    S0          0          0     0   \n",
       "365584         0           tcp  http_443    S0          0          0     0   \n",
       "365585         0           tcp   private    S0          0          0     0   \n",
       "359102         0           tcp   netstat    S0          0          0     0   \n",
       "\n",
       "        wrong_fragment  urgent  hot  ...  dst_host_count  dst_host_srv_count  \\\n",
       "42063                0       0    1  ...             255                   3   \n",
       "142590               0       0    0  ...               1                   1   \n",
       "142173               0       0    2  ...               5                  46   \n",
       "142408               0       0    3  ...               5                  37   \n",
       "142454               0       0    2  ...               7                   1   \n",
       "...                ...     ...  ...  ...             ...                 ...   \n",
       "365582               0       0    0  ...             255                   5   \n",
       "365583               0       0    0  ...             255                  14   \n",
       "365584               0       0    0  ...             255                   4   \n",
       "365585               0       0    0  ...             255                   1   \n",
       "359102               0       0    0  ...             255                  10   \n",
       "\n",
       "        dst_host_same_srv_rate  dst_host_diff_srv_rate  \\\n",
       "42063                     0.01                    0.09   \n",
       "142590                    1.00                    0.00   \n",
       "142173                    1.00                    0.00   \n",
       "142408                    1.00                    0.00   \n",
       "142454                    0.14                    0.29   \n",
       "...                        ...                     ...   \n",
       "365582                    0.02                    0.06   \n",
       "365583                    0.05                    0.06   \n",
       "365584                    0.02                    0.06   \n",
       "365585                    0.00                    0.06   \n",
       "359102                    0.04                    0.08   \n",
       "\n",
       "        dst_host_same_src_port_rate  dst_host_srv_diff_host_rate  \\\n",
       "42063                          0.22                         0.00   \n",
       "142590                         1.00                         0.00   \n",
       "142173                         1.00                         0.04   \n",
       "142408                         1.00                         0.14   \n",
       "142454                         1.00                         0.00   \n",
       "...                             ...                          ...   \n",
       "365582                         0.00                         0.00   \n",
       "365583                         0.00                         0.00   \n",
       "365584                         0.00                         0.00   \n",
       "365585                         0.00                         0.00   \n",
       "359102                         0.00                         0.00   \n",
       "\n",
       "        dst_host_serror_rate  dst_host_srv_serror_rate  dst_host_rerror_rate  \\\n",
       "42063                   0.18                      0.67                  0.05   \n",
       "142590                  0.00                      0.00                  0.00   \n",
       "142173                  0.00                      0.02                  0.00   \n",
       "142408                  0.00                      0.00                  0.00   \n",
       "142454                  0.00                      0.00                  0.00   \n",
       "...                      ...                       ...                   ...   \n",
       "365582                  1.00                      1.00                  0.00   \n",
       "365583                  1.00                      1.00                  0.00   \n",
       "365584                  1.00                      1.00                  0.00   \n",
       "365585                  1.00                      1.00                  0.00   \n",
       "359102                  1.00                      1.00                  0.00   \n",
       "\n",
       "        dst_host_srv_rerror_rate  \n",
       "42063                       0.33  \n",
       "142590                      0.00  \n",
       "142173                      0.00  \n",
       "142408                      0.00  \n",
       "142454                      0.00  \n",
       "...                          ...  \n",
       "365582                      0.00  \n",
       "365583                      0.00  \n",
       "365584                      0.00  \n",
       "365585                      0.00  \n",
       "359102                      0.00  \n",
       "\n",
       "[145586 rows x 41 columns]"
      ]
     },
     "execution_count": 18,
     "metadata": {},
     "output_type": "execute_result"
    }
   ],
   "source": [
    "train_x.sort_values(by=['src_bytes'], ascending=False)"
   ]
  },
  {
   "cell_type": "code",
   "execution_count": 19,
   "metadata": {},
   "outputs": [
    {
     "data": {
      "text/html": [
       "<div>\n",
       "<style scoped>\n",
       "    .dataframe tbody tr th:only-of-type {\n",
       "        vertical-align: middle;\n",
       "    }\n",
       "\n",
       "    .dataframe tbody tr th {\n",
       "        vertical-align: top;\n",
       "    }\n",
       "\n",
       "    .dataframe thead th {\n",
       "        text-align: right;\n",
       "    }\n",
       "</style>\n",
       "<table border=\"1\" class=\"dataframe\">\n",
       "  <thead>\n",
       "    <tr style=\"text-align: right;\">\n",
       "      <th></th>\n",
       "      <th>duration</th>\n",
       "      <th>protocol_type</th>\n",
       "      <th>service</th>\n",
       "      <th>flag</th>\n",
       "      <th>src_bytes</th>\n",
       "      <th>dst_bytes</th>\n",
       "      <th>land</th>\n",
       "      <th>wrong_fragment</th>\n",
       "      <th>urgent</th>\n",
       "      <th>hot</th>\n",
       "      <th>...</th>\n",
       "      <th>dst_host_count</th>\n",
       "      <th>dst_host_srv_count</th>\n",
       "      <th>dst_host_same_srv_rate</th>\n",
       "      <th>dst_host_diff_srv_rate</th>\n",
       "      <th>dst_host_same_src_port_rate</th>\n",
       "      <th>dst_host_srv_diff_host_rate</th>\n",
       "      <th>dst_host_serror_rate</th>\n",
       "      <th>dst_host_srv_serror_rate</th>\n",
       "      <th>dst_host_rerror_rate</th>\n",
       "      <th>dst_host_srv_rerror_rate</th>\n",
       "    </tr>\n",
       "  </thead>\n",
       "  <tbody>\n",
       "    <tr>\n",
       "      <th>77147</th>\n",
       "      <td>10</td>\n",
       "      <td>tcp</td>\n",
       "      <td>ftp_data</td>\n",
       "      <td>SF</td>\n",
       "      <td>0</td>\n",
       "      <td>5155468</td>\n",
       "      <td>0</td>\n",
       "      <td>0</td>\n",
       "      <td>0</td>\n",
       "      <td>0</td>\n",
       "      <td>...</td>\n",
       "      <td>4</td>\n",
       "      <td>4</td>\n",
       "      <td>1.00</td>\n",
       "      <td>0.00</td>\n",
       "      <td>1.00</td>\n",
       "      <td>0.00</td>\n",
       "      <td>0.0</td>\n",
       "      <td>0.0</td>\n",
       "      <td>0.0</td>\n",
       "      <td>0.0</td>\n",
       "    </tr>\n",
       "    <tr>\n",
       "      <th>77155</th>\n",
       "      <td>9</td>\n",
       "      <td>tcp</td>\n",
       "      <td>ftp_data</td>\n",
       "      <td>SF</td>\n",
       "      <td>0</td>\n",
       "      <td>5153771</td>\n",
       "      <td>0</td>\n",
       "      <td>0</td>\n",
       "      <td>0</td>\n",
       "      <td>0</td>\n",
       "      <td>...</td>\n",
       "      <td>12</td>\n",
       "      <td>12</td>\n",
       "      <td>1.00</td>\n",
       "      <td>0.00</td>\n",
       "      <td>1.00</td>\n",
       "      <td>0.00</td>\n",
       "      <td>0.0</td>\n",
       "      <td>0.0</td>\n",
       "      <td>0.0</td>\n",
       "      <td>0.0</td>\n",
       "    </tr>\n",
       "    <tr>\n",
       "      <th>77146</th>\n",
       "      <td>9</td>\n",
       "      <td>tcp</td>\n",
       "      <td>ftp_data</td>\n",
       "      <td>SF</td>\n",
       "      <td>0</td>\n",
       "      <td>5153460</td>\n",
       "      <td>0</td>\n",
       "      <td>0</td>\n",
       "      <td>0</td>\n",
       "      <td>0</td>\n",
       "      <td>...</td>\n",
       "      <td>3</td>\n",
       "      <td>3</td>\n",
       "      <td>1.00</td>\n",
       "      <td>0.00</td>\n",
       "      <td>1.00</td>\n",
       "      <td>0.00</td>\n",
       "      <td>0.0</td>\n",
       "      <td>0.0</td>\n",
       "      <td>0.0</td>\n",
       "      <td>0.0</td>\n",
       "    </tr>\n",
       "    <tr>\n",
       "      <th>77148</th>\n",
       "      <td>10</td>\n",
       "      <td>tcp</td>\n",
       "      <td>ftp_data</td>\n",
       "      <td>SF</td>\n",
       "      <td>0</td>\n",
       "      <td>5151385</td>\n",
       "      <td>0</td>\n",
       "      <td>0</td>\n",
       "      <td>0</td>\n",
       "      <td>0</td>\n",
       "      <td>...</td>\n",
       "      <td>5</td>\n",
       "      <td>5</td>\n",
       "      <td>1.00</td>\n",
       "      <td>0.00</td>\n",
       "      <td>1.00</td>\n",
       "      <td>0.00</td>\n",
       "      <td>0.0</td>\n",
       "      <td>0.0</td>\n",
       "      <td>0.0</td>\n",
       "      <td>0.0</td>\n",
       "    </tr>\n",
       "    <tr>\n",
       "      <th>77159</th>\n",
       "      <td>10</td>\n",
       "      <td>tcp</td>\n",
       "      <td>ftp_data</td>\n",
       "      <td>SF</td>\n",
       "      <td>0</td>\n",
       "      <td>5151154</td>\n",
       "      <td>0</td>\n",
       "      <td>0</td>\n",
       "      <td>0</td>\n",
       "      <td>0</td>\n",
       "      <td>...</td>\n",
       "      <td>16</td>\n",
       "      <td>16</td>\n",
       "      <td>1.00</td>\n",
       "      <td>0.00</td>\n",
       "      <td>1.00</td>\n",
       "      <td>0.00</td>\n",
       "      <td>0.0</td>\n",
       "      <td>0.0</td>\n",
       "      <td>0.0</td>\n",
       "      <td>0.0</td>\n",
       "    </tr>\n",
       "    <tr>\n",
       "      <th>...</th>\n",
       "      <td>...</td>\n",
       "      <td>...</td>\n",
       "      <td>...</td>\n",
       "      <td>...</td>\n",
       "      <td>...</td>\n",
       "      <td>...</td>\n",
       "      <td>...</td>\n",
       "      <td>...</td>\n",
       "      <td>...</td>\n",
       "      <td>...</td>\n",
       "      <td>...</td>\n",
       "      <td>...</td>\n",
       "      <td>...</td>\n",
       "      <td>...</td>\n",
       "      <td>...</td>\n",
       "      <td>...</td>\n",
       "      <td>...</td>\n",
       "      <td>...</td>\n",
       "      <td>...</td>\n",
       "      <td>...</td>\n",
       "      <td>...</td>\n",
       "    </tr>\n",
       "    <tr>\n",
       "      <th>348847</th>\n",
       "      <td>0</td>\n",
       "      <td>tcp</td>\n",
       "      <td>ftp_data</td>\n",
       "      <td>SF</td>\n",
       "      <td>6601</td>\n",
       "      <td>0</td>\n",
       "      <td>0</td>\n",
       "      <td>0</td>\n",
       "      <td>0</td>\n",
       "      <td>0</td>\n",
       "      <td>...</td>\n",
       "      <td>70</td>\n",
       "      <td>97</td>\n",
       "      <td>0.79</td>\n",
       "      <td>0.04</td>\n",
       "      <td>0.79</td>\n",
       "      <td>0.02</td>\n",
       "      <td>0.0</td>\n",
       "      <td>0.0</td>\n",
       "      <td>0.0</td>\n",
       "      <td>0.0</td>\n",
       "    </tr>\n",
       "    <tr>\n",
       "      <th>348846</th>\n",
       "      <td>0</td>\n",
       "      <td>tcp</td>\n",
       "      <td>ftp_data</td>\n",
       "      <td>SF</td>\n",
       "      <td>15377</td>\n",
       "      <td>0</td>\n",
       "      <td>0</td>\n",
       "      <td>0</td>\n",
       "      <td>0</td>\n",
       "      <td>0</td>\n",
       "      <td>...</td>\n",
       "      <td>60</td>\n",
       "      <td>97</td>\n",
       "      <td>0.75</td>\n",
       "      <td>0.05</td>\n",
       "      <td>0.75</td>\n",
       "      <td>0.02</td>\n",
       "      <td>0.0</td>\n",
       "      <td>0.0</td>\n",
       "      <td>0.0</td>\n",
       "      <td>0.0</td>\n",
       "    </tr>\n",
       "    <tr>\n",
       "      <th>348844</th>\n",
       "      <td>0</td>\n",
       "      <td>tcp</td>\n",
       "      <td>ftp_data</td>\n",
       "      <td>SF</td>\n",
       "      <td>12</td>\n",
       "      <td>0</td>\n",
       "      <td>0</td>\n",
       "      <td>0</td>\n",
       "      <td>0</td>\n",
       "      <td>0</td>\n",
       "      <td>...</td>\n",
       "      <td>40</td>\n",
       "      <td>97</td>\n",
       "      <td>0.88</td>\n",
       "      <td>0.08</td>\n",
       "      <td>0.88</td>\n",
       "      <td>0.02</td>\n",
       "      <td>0.0</td>\n",
       "      <td>0.0</td>\n",
       "      <td>0.0</td>\n",
       "      <td>0.0</td>\n",
       "    </tr>\n",
       "    <tr>\n",
       "      <th>348843</th>\n",
       "      <td>0</td>\n",
       "      <td>tcp</td>\n",
       "      <td>ftp_data</td>\n",
       "      <td>SF</td>\n",
       "      <td>59</td>\n",
       "      <td>0</td>\n",
       "      <td>0</td>\n",
       "      <td>0</td>\n",
       "      <td>0</td>\n",
       "      <td>0</td>\n",
       "      <td>...</td>\n",
       "      <td>30</td>\n",
       "      <td>91</td>\n",
       "      <td>0.97</td>\n",
       "      <td>0.07</td>\n",
       "      <td>0.97</td>\n",
       "      <td>0.02</td>\n",
       "      <td>0.0</td>\n",
       "      <td>0.0</td>\n",
       "      <td>0.0</td>\n",
       "      <td>0.0</td>\n",
       "    </tr>\n",
       "    <tr>\n",
       "      <th>353853</th>\n",
       "      <td>0</td>\n",
       "      <td>tcp</td>\n",
       "      <td>private</td>\n",
       "      <td>S0</td>\n",
       "      <td>0</td>\n",
       "      <td>0</td>\n",
       "      <td>0</td>\n",
       "      <td>0</td>\n",
       "      <td>0</td>\n",
       "      <td>0</td>\n",
       "      <td>...</td>\n",
       "      <td>255</td>\n",
       "      <td>5</td>\n",
       "      <td>0.02</td>\n",
       "      <td>0.07</td>\n",
       "      <td>0.00</td>\n",
       "      <td>0.00</td>\n",
       "      <td>1.0</td>\n",
       "      <td>1.0</td>\n",
       "      <td>0.0</td>\n",
       "      <td>0.0</td>\n",
       "    </tr>\n",
       "  </tbody>\n",
       "</table>\n",
       "<p>145586 rows × 41 columns</p>\n",
       "</div>"
      ],
      "text/plain": [
       "        duration protocol_type   service flag  src_bytes  dst_bytes  land  \\\n",
       "77147         10           tcp  ftp_data   SF          0    5155468     0   \n",
       "77155          9           tcp  ftp_data   SF          0    5153771     0   \n",
       "77146          9           tcp  ftp_data   SF          0    5153460     0   \n",
       "77148         10           tcp  ftp_data   SF          0    5151385     0   \n",
       "77159         10           tcp  ftp_data   SF          0    5151154     0   \n",
       "...          ...           ...       ...  ...        ...        ...   ...   \n",
       "348847         0           tcp  ftp_data   SF       6601          0     0   \n",
       "348846         0           tcp  ftp_data   SF      15377          0     0   \n",
       "348844         0           tcp  ftp_data   SF         12          0     0   \n",
       "348843         0           tcp  ftp_data   SF         59          0     0   \n",
       "353853         0           tcp   private   S0          0          0     0   \n",
       "\n",
       "        wrong_fragment  urgent  hot  ...  dst_host_count  dst_host_srv_count  \\\n",
       "77147                0       0    0  ...               4                   4   \n",
       "77155                0       0    0  ...              12                  12   \n",
       "77146                0       0    0  ...               3                   3   \n",
       "77148                0       0    0  ...               5                   5   \n",
       "77159                0       0    0  ...              16                  16   \n",
       "...                ...     ...  ...  ...             ...                 ...   \n",
       "348847               0       0    0  ...              70                  97   \n",
       "348846               0       0    0  ...              60                  97   \n",
       "348844               0       0    0  ...              40                  97   \n",
       "348843               0       0    0  ...              30                  91   \n",
       "353853               0       0    0  ...             255                   5   \n",
       "\n",
       "        dst_host_same_srv_rate  dst_host_diff_srv_rate  \\\n",
       "77147                     1.00                    0.00   \n",
       "77155                     1.00                    0.00   \n",
       "77146                     1.00                    0.00   \n",
       "77148                     1.00                    0.00   \n",
       "77159                     1.00                    0.00   \n",
       "...                        ...                     ...   \n",
       "348847                    0.79                    0.04   \n",
       "348846                    0.75                    0.05   \n",
       "348844                    0.88                    0.08   \n",
       "348843                    0.97                    0.07   \n",
       "353853                    0.02                    0.07   \n",
       "\n",
       "        dst_host_same_src_port_rate  dst_host_srv_diff_host_rate  \\\n",
       "77147                          1.00                         0.00   \n",
       "77155                          1.00                         0.00   \n",
       "77146                          1.00                         0.00   \n",
       "77148                          1.00                         0.00   \n",
       "77159                          1.00                         0.00   \n",
       "...                             ...                          ...   \n",
       "348847                         0.79                         0.02   \n",
       "348846                         0.75                         0.02   \n",
       "348844                         0.88                         0.02   \n",
       "348843                         0.97                         0.02   \n",
       "353853                         0.00                         0.00   \n",
       "\n",
       "        dst_host_serror_rate  dst_host_srv_serror_rate  dst_host_rerror_rate  \\\n",
       "77147                    0.0                       0.0                   0.0   \n",
       "77155                    0.0                       0.0                   0.0   \n",
       "77146                    0.0                       0.0                   0.0   \n",
       "77148                    0.0                       0.0                   0.0   \n",
       "77159                    0.0                       0.0                   0.0   \n",
       "...                      ...                       ...                   ...   \n",
       "348847                   0.0                       0.0                   0.0   \n",
       "348846                   0.0                       0.0                   0.0   \n",
       "348844                   0.0                       0.0                   0.0   \n",
       "348843                   0.0                       0.0                   0.0   \n",
       "353853                   1.0                       1.0                   0.0   \n",
       "\n",
       "        dst_host_srv_rerror_rate  \n",
       "77147                        0.0  \n",
       "77155                        0.0  \n",
       "77146                        0.0  \n",
       "77148                        0.0  \n",
       "77159                        0.0  \n",
       "...                          ...  \n",
       "348847                       0.0  \n",
       "348846                       0.0  \n",
       "348844                       0.0  \n",
       "348843                       0.0  \n",
       "353853                       0.0  \n",
       "\n",
       "[145586 rows x 41 columns]"
      ]
     },
     "execution_count": 19,
     "metadata": {},
     "output_type": "execute_result"
    }
   ],
   "source": [
    "train_x.sort_values(by=['dst_bytes'], ascending=False)"
   ]
  },
  {
   "cell_type": "code",
   "execution_count": null,
   "metadata": {},
   "outputs": [],
   "source": [
    "train_x = train_x.drop([42063])\n",
    "train_y = train_y.drop([42063])\n",
    "train_x.sort_values(by=['src_bytes'], ascending=False)"
   ]
  },
  {
   "cell_type": "code",
   "execution_count": 17,
   "metadata": {},
   "outputs": [
    {
     "data": {
      "text/plain": [
       "<matplotlib.axes._subplots.AxesSubplot at 0x22b8b3e59d0>"
      ]
     },
     "execution_count": 17,
     "metadata": {},
     "output_type": "execute_result"
    },
    {
     "data": {
      "image/png": "[encoded data removed]",
      "text/plain": [
       "<Figure size 432x288 with 1 Axes>"
      ]
     },
     "metadata": {
      "needs_background": "light"
     },
     "output_type": "display_data"
    }
   ],
   "source": [
    "sns.boxplot(data=np.log1p(train_x.src_bytes))"
   ]
  },
  {
   "cell_type": "code",
   "execution_count": 22,
   "metadata": {
    "scrolled": true
   },
   "outputs": [
    {
     "data": {
      "text/plain": [
       "<matplotlib.axes._subplots.AxesSubplot at 0x1c51233b1c0>"
      ]
     },
     "execution_count": 22,
     "metadata": {},
     "output_type": "execute_result"
    },
    {
     "data": {
      "image/png": "[encoded data removed]",
      "text/plain": [
       "<Figure size 360x360 with 1 Axes>"
      ]
     },
     "metadata": {},
     "output_type": "display_data"
    }
   ],
   "source": [
    "train_y['result'].hist(figsize=(5, 5))"
   ]
  },
  {
   "cell_type": "code",
   "execution_count": 23,
   "metadata": {
    "scrolled": true
   },
   "outputs": [
    {
     "data": {
      "text/plain": [
       "<matplotlib.axes._subplots.AxesSubplot at 0x1c512d827c0>"
      ]
     },
     "execution_count": 23,
     "metadata": {},
     "output_type": "execute_result"
    },
    {
     "data": {
      "image/png": "[encoded data removed]",
      "text/plain": [
       "<Figure size 360x360 with 1 Axes>"
      ]
     },
     "metadata": {},
     "output_type": "display_data"
    }
   ],
   "source": [
    "test_y['result'].hist(figsize=(5, 5))"
   ]
  },
  {
   "cell_type": "markdown",
   "metadata": {},
   "source": [
    "# Data processing"
   ]
  },
  {
   "cell_type": "code",
   "execution_count": null,
   "metadata": {},
   "outputs": [],
   "source": [
    "train_x[['protocol_type', 'service', 'flag']].head(5)"
   ]
  },
  {
   "cell_type": "code",
   "execution_count": null,
   "metadata": {},
   "outputs": [],
   "source": [
    "train_x_dum = pd.get_dummies(train_x)\n",
    "test_x_dum = pd.get_dummies(test_x)\n",
    "train_x_dum.head(5)"
   ]
  },
  {
   "cell_type": "markdown",
   "metadata": {},
   "source": [
    "# Feature transformation"
   ]
  },
  {
   "cell_type": "code",
   "execution_count": null,
   "metadata": {},
   "outputs": [],
   "source": [
    "train_x_dum['src_bytes'] = np.log1p(train_x_dum.src_bytes)\n",
    "train_x_dum['dst_bytes'] = np.log1p(train_x_dum.dst_bytes)\n",
    "test_x_dum['src_bytes'] = np.log1p(test_x_dum.src_bytes)\n",
    "test_x_dum['dst_bytes'] = np.log1p(test_x_dum.dst_bytes)"
   ]
  },
  {
   "cell_type": "code",
   "execution_count": null,
   "metadata": {},
   "outputs": [],
   "source": [
    "train_x_dum['src_bytes'].head(10)"
   ]
  },
  {
   "cell_type": "markdown",
   "metadata": {},
   "source": [
    "# Feature selection"
   ]
  },
  {
   "cell_type": "code",
   "execution_count": null,
   "metadata": {},
   "outputs": [],
   "source": [
    "train_y_label = train_y.copy()\n",
    "train_y_label.loc[(train_y_label.result == 'normal.'), 'result'] = '0'\n",
    "train_y_label.loc[(train_y_label.result == 'probe'), 'result'] = '1'\n",
    "train_y_label.loc[(train_y_label.result == 'dos'), 'result'] = '2'\n",
    "train_y_label.loc[(train_y_label.result == 'u2r'), 'result'] = '3'\n",
    "train_y_label.loc[(train_y_label.result == 'r2l'), 'result'] = '4'"
   ]
  },
  {
   "cell_type": "code",
   "execution_count": null,
   "metadata": {
    "scrolled": true
   },
   "outputs": [],
   "source": [
    "test_y_label = test_y.copy()\n",
    "test_y_label.loc[(test_y.result == 'normal.'), 'result'] = '0'\n",
    "test_y_label.loc[(test_y.result == 'probe'), 'result'] = '1'\n",
    "test_y_label.loc[(test_y.result == 'dos'), 'result'] = '2'\n",
    "test_y_label.loc[(test_y.result == 'u2r'), 'result'] = '3'\n",
    "test_y_label.loc[(test_y.result == 'r2l'), 'result'] = '4'"
   ]
  },
  {
   "cell_type": "code",
   "execution_count": null,
   "metadata": {},
   "outputs": [],
   "source": [
    "train_y_label = train_y_label.astype('int')\n",
    "test_y_label = test_y_label.astype('int')"
   ]
  },
  {
   "cell_type": "code",
   "execution_count": null,
   "metadata": {},
   "outputs": [],
   "source": [
    "import xgboost as xgb"
   ]
  },
  {
   "cell_type": "code",
   "execution_count": 31,
   "metadata": {},
   "outputs": [],
   "source": [
    "dtrain = xgb.DMatrix(train_x_dum, label=train_y_label, missing = 0)\n",
    "\n",
    "param = {'max_depth':6, 'eta':0.15, 'silent':1, 'gamma':0, 'objective':'reg:linear'}\n",
    "num_round = 300\n",
    "model = xgb.train(param, dtrain, num_round)"
   ]
  },
  {
   "cell_type": "code",
   "execution_count": 32,
   "metadata": {},
   "outputs": [
    {
     "data": {
      "text/plain": [
       "<matplotlib.axes._subplots.AxesSubplot at 0x2af4b967ca0>"
      ]
     },
     "execution_count": 32,
     "metadata": {},
     "output_type": "execute_result"
    },
    {
     "data": {
      "image/png": "[encoded data removed]",
      "text/plain": [
       "<Figure size 5760x3600 with 1 Axes>"
      ]
     },
     "metadata": {},
     "output_type": "display_data"
    }
   ],
   "source": [
    "fig, ax = plt.subplots(figsize=(80, 50))\n",
    "xgb.plot_importance(model, ax = ax)"
   ]
  },
  {
   "cell_type": "code",
   "execution_count": null,
   "metadata": {},
   "outputs": [],
   "source": [
    "train_set = train_x_dum.drop(['is_guest_login', 'num_access_files', 'num_shells', 'srv_rerror_rate', 'root_shell', \\\n",
    "                             'urgent', 'land', 'num_failed_logins', 'wrong_fragment', 'dst_host_srv_rerror_rate', \\\n",
    "                             'srv_serror_rate', 'num_file_creations', 'num_root', 'serror_rate', 'logged_in', \\\n",
    "                             'num_compromised', 'service_red_i', 'service_urh_i'], axis = 1)\n",
    "test_set = test_x_dum.drop(['is_guest_login', 'num_access_files', 'num_shells', 'srv_rerror_rate', 'root_shell', \\\n",
    "                             'urgent', 'land', 'num_failed_logins', 'wrong_fragment', 'dst_host_srv_rerror_rate', \\\n",
    "                             'srv_serror_rate', 'num_file_creations', 'num_root', 'serror_rate', 'logged_in', \\\n",
    "                             'num_compromised', 'service_icmp'], axis = 1)"
   ]
  },
  {
   "cell_type": "code",
   "execution_count": 33,
   "metadata": {
    "scrolled": true
   },
   "outputs": [
    {
     "data": {
      "text/plain": [
       "['duration',\n",
       " 'src_bytes',\n",
       " 'dst_bytes',\n",
       " 'hot',\n",
       " 'su_attempted',\n",
       " 'num_outbound_cmds',\n",
       " 'is_host_login',\n",
       " 'count',\n",
       " 'srv_count',\n",
       " 'rerror_rate',\n",
       " 'same_srv_rate',\n",
       " 'diff_srv_rate',\n",
       " 'srv_diff_host_rate',\n",
       " 'dst_host_count',\n",
       " 'dst_host_srv_count',\n",
       " 'dst_host_same_srv_rate',\n",
       " 'dst_host_diff_srv_rate',\n",
       " 'dst_host_same_src_port_rate',\n",
       " 'dst_host_srv_diff_host_rate',\n",
       " 'dst_host_serror_rate',\n",
       " 'dst_host_srv_serror_rate',\n",
       " 'dst_host_rerror_rate',\n",
       " 'protocol_type_icmp',\n",
       " 'protocol_type_tcp',\n",
       " 'protocol_type_udp',\n",
       " 'service_IRC',\n",
       " 'service_X11',\n",
       " 'service_Z39_50',\n",
       " 'service_auth',\n",
       " 'service_bgp',\n",
       " 'service_courier',\n",
       " 'service_csnet_ns',\n",
       " 'service_ctf',\n",
       " 'service_daytime',\n",
       " 'service_discard',\n",
       " 'service_domain',\n",
       " 'service_domain_u',\n",
       " 'service_echo',\n",
       " 'service_eco_i',\n",
       " 'service_ecr_i',\n",
       " 'service_efs',\n",
       " 'service_exec',\n",
       " 'service_finger',\n",
       " 'service_ftp',\n",
       " 'service_ftp_data',\n",
       " 'service_gopher',\n",
       " 'service_hostnames',\n",
       " 'service_http',\n",
       " 'service_http_443',\n",
       " 'service_imap4',\n",
       " 'service_iso_tsap',\n",
       " 'service_klogin',\n",
       " 'service_kshell',\n",
       " 'service_ldap',\n",
       " 'service_link',\n",
       " 'service_login',\n",
       " 'service_mtp',\n",
       " 'service_name',\n",
       " 'service_netbios_dgm',\n",
       " 'service_netbios_ns',\n",
       " 'service_netbios_ssn',\n",
       " 'service_netstat',\n",
       " 'service_nnsp',\n",
       " 'service_nntp',\n",
       " 'service_ntp_u',\n",
       " 'service_other',\n",
       " 'service_pm_dump',\n",
       " 'service_pop_2',\n",
       " 'service_pop_3',\n",
       " 'service_printer',\n",
       " 'service_private',\n",
       " 'service_remote_job',\n",
       " 'service_rje',\n",
       " 'service_shell',\n",
       " 'service_smtp',\n",
       " 'service_sql_net',\n",
       " 'service_ssh',\n",
       " 'service_sunrpc',\n",
       " 'service_supdup',\n",
       " 'service_systat',\n",
       " 'service_telnet',\n",
       " 'service_tftp_u',\n",
       " 'service_tim_i',\n",
       " 'service_time',\n",
       " 'service_urp_i',\n",
       " 'service_uucp',\n",
       " 'service_uucp_path',\n",
       " 'service_vmnet',\n",
       " 'service_whois',\n",
       " 'flag_OTH',\n",
       " 'flag_REJ',\n",
       " 'flag_RSTO',\n",
       " 'flag_RSTOS0',\n",
       " 'flag_RSTR',\n",
       " 'flag_S0',\n",
       " 'flag_S1',\n",
       " 'flag_S2',\n",
       " 'flag_S3',\n",
       " 'flag_SF',\n",
       " 'flag_SH']"
      ]
     },
     "execution_count": 33,
     "metadata": {},
     "output_type": "execute_result"
    }
   ],
   "source": [
    "list(train_set)"
   ]
  },
  {
   "cell_type": "code",
   "execution_count": null,
   "metadata": {},
   "outputs": [],
   "source": [
    "train_set.to_csv('./data/train_all_processed.csv', header = False)\n",
    "train_y.to_csv('./data/train_all_label.csv', header = False)\n",
    "test_set.to_csv('./data/test_processed.csv', header = False)\n",
    "test_y.to_csv('./data/test_label.csv', header = False)"
   ]
  },
  {
   "cell_type": "code",
   "execution_count": null,
   "metadata": {},
   "outputs": [],
   "source": [
    "test_y"
   ]
  },
  {
   "cell_type": "markdown",
   "metadata": {},
   "source": [
    "# ML algorithm\n",
    "1. DecisionTreeClassifier"
   ]
  },
  {
   "cell_type": "code",
   "execution_count": 35,
   "metadata": {},
   "outputs": [
    {
     "data": {
      "text/plain": [
       "10"
      ]
     },
     "execution_count": 35,
     "metadata": {},
     "output_type": "execute_result"
    }
   ],
   "source": [
    "from sklearn.model_selection import KFold\n",
    "train_set_arr = train_set.to_numpy()\n",
    "train_y_arr = train_y_label.to_numpy()\n",
    "kf = KFold(n_splits=10, shuffle=False)\n",
    "kf.get_n_splits(train_set_arr)"
   ]
  },
  {
   "cell_type": "code",
   "execution_count": 36,
   "metadata": {},
   "outputs": [
    {
     "name": "stdout",
     "output_type": "stream",
     "text": [
      "TRAIN: [ 14559  14560  14561 ... 145582 145583 145584] TEST: [    0     1     2 ... 14556 14557 14558]\n",
      "0.9936808846761453\n",
      "TRAIN: [     0      1      2 ... 145582 145583 145584] TEST: [14559 14560 14561 ... 29115 29116 29117]\n",
      "0.9787760148361838\n",
      "TRAIN: [     0      1      2 ... 145582 145583 145584] TEST: [29118 29119 29120 ... 43674 43675 43676]\n",
      "0.9326876845937221\n",
      "TRAIN: [     0      1      2 ... 145582 145583 145584] TEST: [43677 43678 43679 ... 58233 58234 58235]\n",
      "0.981523456281338\n",
      "TRAIN: [     0      1      2 ... 145582 145583 145584] TEST: [58236 58237 58238 ... 72792 72793 72794]\n",
      "0.9811113400645649\n",
      "TRAIN: [     0      1      2 ... 145582 145583 145584] TEST: [72795 72796 72797 ... 87350 87351 87352]\n",
      "0.9507487292210468\n",
      "TRAIN: [     0      1      2 ... 145582 145583 145584] TEST: [ 87353  87354  87355 ... 101908 101909 101910]\n",
      "0.9786371754361863\n",
      "TRAIN: [     0      1      2 ... 145582 145583 145584] TEST: [101911 101912 101913 ... 116466 116467 116468]\n",
      "0.9951229564500618\n",
      "TRAIN: [     0      1      2 ... 145582 145583 145584] TEST: [116469 116470 116471 ... 131024 131025 131026]\n",
      "0.9809726610798186\n",
      "TRAIN: [     0      1      2 ... 131024 131025 131026] TEST: [131027 131028 131029 ... 145582 145583 145584]\n",
      "0.9819343316389614\n"
     ]
    }
   ],
   "source": [
    "from sklearn.tree import DecisionTreeClassifier\n",
    "for train_index, test_index in kf.split(train_set_arr):\n",
    "    print(\"TRAIN:\", train_index, \"TEST:\", test_index)\n",
    "    X_train, X_test = train_set_arr[train_index], train_set_arr[test_index]\n",
    "    y_train, y_test = train_y_arr[train_index], train_y_arr[test_index]\n",
    "    clf_dt = DecisionTreeClassifier(random_state=0, max_depth = 8, class_weight = 'balanced')\n",
    "    clf_dt.fit(X_train, y_train)\n",
    "#     y_predict_clf = clf.predict(X_test)\n",
    "    print(clf_dt.score(X_test, y_test))"
   ]
  },
  {
   "cell_type": "code",
   "execution_count": 55,
   "metadata": {},
   "outputs": [
    {
     "name": "stdout",
     "output_type": "stream",
     "text": [
      "TRAIN: [ 49402  49403  49404 ... 494017 494018 494019] TEST: [    0     1     2 ... 49399 49400 49401]\n"
     ]
    },
    {
     "name": "stderr",
     "output_type": "stream",
     "text": [
      "d:\\python\\python38\\lib\\site-packages\\sklearn\\preprocessing\\_label.py:235: DataConversionWarning: A column-vector y was passed when a 1d array was expected. Please change the shape of y to (n_samples, ), for example using ravel().\n",
      "  y = column_or_1d(y, warn=True)\n",
      "d:\\python\\python38\\lib\\site-packages\\sklearn\\preprocessing\\_label.py:268: DataConversionWarning: A column-vector y was passed when a 1d array was expected. Please change the shape of y to (n_samples, ), for example using ravel().\n",
      "  y = column_or_1d(y, warn=True)\n"
     ]
    },
    {
     "ename": "XGBoostError",
     "evalue": "[18:24:51] C:/Users/Administrator/workspace/xgboost-win64_release_1.0.0/src/metric/elementwise_metric.cu:332: Check failed: preds.Size() == info.labels_.Size() (2223090 vs. 444618) : label and prediction size not match, hint: use merror or mlogloss for multi-class classification",
     "output_type": "error",
     "traceback": [
      "\u001b[1;31m---------------------------------------------------------------------------\u001b[0m",
      "\u001b[1;31mXGBoostError\u001b[0m                              Traceback (most recent call last)",
      "\u001b[1;32m<ipython-input-55-b70b24da8d66>\u001b[0m in \u001b[0;36m<module>\u001b[1;34m\u001b[0m\n\u001b[0;32m      7\u001b[0m \u001b[1;33m\u001b[0m\u001b[0m\n\u001b[0;32m      8\u001b[0m     \u001b[0mmodel_xgb_classifier\u001b[0m \u001b[1;33m=\u001b[0m \u001b[0mxgb\u001b[0m\u001b[1;33m.\u001b[0m\u001b[0mXGBClassifier\u001b[0m\u001b[1;33m(\u001b[0m\u001b[1;33m**\u001b[0m\u001b[0mparam_dist\u001b[0m\u001b[1;33m)\u001b[0m\u001b[1;33m\u001b[0m\u001b[1;33m\u001b[0m\u001b[0m\n\u001b[1;32m----> 9\u001b[1;33m     model_xgb_classifier.fit(X_train, y_train,\n\u001b[0m\u001b[0;32m     10\u001b[0m         \u001b[0meval_set\u001b[0m\u001b[1;33m=\u001b[0m\u001b[1;33m[\u001b[0m\u001b[1;33m(\u001b[0m\u001b[0mX_train\u001b[0m\u001b[1;33m,\u001b[0m \u001b[0my_train\u001b[0m\u001b[1;33m)\u001b[0m\u001b[1;33m,\u001b[0m \u001b[1;33m(\u001b[0m\u001b[0mX_test\u001b[0m\u001b[1;33m,\u001b[0m \u001b[0my_test\u001b[0m\u001b[1;33m)\u001b[0m\u001b[1;33m]\u001b[0m\u001b[1;33m,\u001b[0m\u001b[1;33m\u001b[0m\u001b[1;33m\u001b[0m\u001b[0m\n\u001b[0;32m     11\u001b[0m         \u001b[0meval_metric\u001b[0m\u001b[1;33m=\u001b[0m\u001b[1;34m'logloss'\u001b[0m\u001b[1;33m,\u001b[0m\u001b[1;33m\u001b[0m\u001b[1;33m\u001b[0m\u001b[0m\n",
      "\u001b[1;32md:\\python\\python38\\lib\\site-packages\\xgboost\\sklearn.py\u001b[0m in \u001b[0;36mfit\u001b[1;34m(self, X, y, sample_weight, base_margin, eval_set, eval_metric, early_stopping_rounds, verbose, xgb_model, sample_weight_eval_set, callbacks)\u001b[0m\n\u001b[0;32m    815\u001b[0m                                 missing=self.missing, nthread=self.n_jobs)\n\u001b[0;32m    816\u001b[0m \u001b[1;33m\u001b[0m\u001b[0m\n\u001b[1;32m--> 817\u001b[1;33m         self._Booster = train(xgb_options, train_dmatrix,\n\u001b[0m\u001b[0;32m    818\u001b[0m                               \u001b[0mself\u001b[0m\u001b[1;33m.\u001b[0m\u001b[0mget_num_boosting_rounds\u001b[0m\u001b[1;33m(\u001b[0m\u001b[1;33m)\u001b[0m\u001b[1;33m,\u001b[0m\u001b[1;33m\u001b[0m\u001b[1;33m\u001b[0m\u001b[0m\n\u001b[0;32m    819\u001b[0m                               \u001b[0mevals\u001b[0m\u001b[1;33m=\u001b[0m\u001b[0mevals\u001b[0m\u001b[1;33m,\u001b[0m\u001b[1;33m\u001b[0m\u001b[1;33m\u001b[0m\u001b[0m\n",
      "\u001b[1;32md:\\python\\python38\\lib\\site-packages\\xgboost\\training.py\u001b[0m in \u001b[0;36mtrain\u001b[1;34m(params, dtrain, num_boost_round, evals, obj, feval, maximize, early_stopping_rounds, evals_result, verbose_eval, xgb_model, callbacks)\u001b[0m\n\u001b[0;32m    203\u001b[0m         \u001b[0mcallbacks\u001b[0m\u001b[1;33m.\u001b[0m\u001b[0mappend\u001b[0m\u001b[1;33m(\u001b[0m\u001b[0mcallback\u001b[0m\u001b[1;33m.\u001b[0m\u001b[0mrecord_evaluation\u001b[0m\u001b[1;33m(\u001b[0m\u001b[0mevals_result\u001b[0m\u001b[1;33m)\u001b[0m\u001b[1;33m)\u001b[0m\u001b[1;33m\u001b[0m\u001b[1;33m\u001b[0m\u001b[0m\n\u001b[0;32m    204\u001b[0m \u001b[1;33m\u001b[0m\u001b[0m\n\u001b[1;32m--> 205\u001b[1;33m     return _train_internal(params, dtrain,\n\u001b[0m\u001b[0;32m    206\u001b[0m                            \u001b[0mnum_boost_round\u001b[0m\u001b[1;33m=\u001b[0m\u001b[0mnum_boost_round\u001b[0m\u001b[1;33m,\u001b[0m\u001b[1;33m\u001b[0m\u001b[1;33m\u001b[0m\u001b[0m\n\u001b[0;32m    207\u001b[0m                            \u001b[0mevals\u001b[0m\u001b[1;33m=\u001b[0m\u001b[0mevals\u001b[0m\u001b[1;33m,\u001b[0m\u001b[1;33m\u001b[0m\u001b[1;33m\u001b[0m\u001b[0m\n",
      "\u001b[1;32md:\\python\\python38\\lib\\site-packages\\xgboost\\training.py\u001b[0m in \u001b[0;36m_train_internal\u001b[1;34m(params, dtrain, num_boost_round, evals, obj, feval, xgb_model, callbacks)\u001b[0m\n\u001b[0;32m     82\u001b[0m         \u001b[1;31m# check evaluation result.\u001b[0m\u001b[1;33m\u001b[0m\u001b[1;33m\u001b[0m\u001b[1;33m\u001b[0m\u001b[0m\n\u001b[0;32m     83\u001b[0m         \u001b[1;32mif\u001b[0m \u001b[0mevals\u001b[0m\u001b[1;33m:\u001b[0m\u001b[1;33m\u001b[0m\u001b[1;33m\u001b[0m\u001b[0m\n\u001b[1;32m---> 84\u001b[1;33m             \u001b[0mbst_eval_set\u001b[0m \u001b[1;33m=\u001b[0m \u001b[0mbst\u001b[0m\u001b[1;33m.\u001b[0m\u001b[0meval_set\u001b[0m\u001b[1;33m(\u001b[0m\u001b[0mevals\u001b[0m\u001b[1;33m,\u001b[0m \u001b[0mi\u001b[0m\u001b[1;33m,\u001b[0m \u001b[0mfeval\u001b[0m\u001b[1;33m)\u001b[0m\u001b[1;33m\u001b[0m\u001b[1;33m\u001b[0m\u001b[0m\n\u001b[0m\u001b[0;32m     85\u001b[0m             \u001b[1;32mif\u001b[0m \u001b[0misinstance\u001b[0m\u001b[1;33m(\u001b[0m\u001b[0mbst_eval_set\u001b[0m\u001b[1;33m,\u001b[0m \u001b[0mSTRING_TYPES\u001b[0m\u001b[1;33m)\u001b[0m\u001b[1;33m:\u001b[0m\u001b[1;33m\u001b[0m\u001b[1;33m\u001b[0m\u001b[0m\n\u001b[0;32m     86\u001b[0m                 \u001b[0mmsg\u001b[0m \u001b[1;33m=\u001b[0m \u001b[0mbst_eval_set\u001b[0m\u001b[1;33m\u001b[0m\u001b[1;33m\u001b[0m\u001b[0m\n",
      "\u001b[1;32md:\\python\\python38\\lib\\site-packages\\xgboost\\core.py\u001b[0m in \u001b[0;36meval_set\u001b[1;34m(self, evals, iteration, feval)\u001b[0m\n\u001b[0;32m   1309\u001b[0m         \u001b[0mevnames\u001b[0m \u001b[1;33m=\u001b[0m \u001b[0mc_array\u001b[0m\u001b[1;33m(\u001b[0m\u001b[0mctypes\u001b[0m\u001b[1;33m.\u001b[0m\u001b[0mc_char_p\u001b[0m\u001b[1;33m,\u001b[0m \u001b[1;33m[\u001b[0m\u001b[0mc_str\u001b[0m\u001b[1;33m(\u001b[0m\u001b[0md\u001b[0m\u001b[1;33m[\u001b[0m\u001b[1;36m1\u001b[0m\u001b[1;33m]\u001b[0m\u001b[1;33m)\u001b[0m \u001b[1;32mfor\u001b[0m \u001b[0md\u001b[0m \u001b[1;32min\u001b[0m \u001b[0mevals\u001b[0m\u001b[1;33m]\u001b[0m\u001b[1;33m)\u001b[0m\u001b[1;33m\u001b[0m\u001b[1;33m\u001b[0m\u001b[0m\n\u001b[0;32m   1310\u001b[0m         \u001b[0mmsg\u001b[0m \u001b[1;33m=\u001b[0m \u001b[0mctypes\u001b[0m\u001b[1;33m.\u001b[0m\u001b[0mc_char_p\u001b[0m\u001b[1;33m(\u001b[0m\u001b[1;33m)\u001b[0m\u001b[1;33m\u001b[0m\u001b[1;33m\u001b[0m\u001b[0m\n\u001b[1;32m-> 1311\u001b[1;33m         _check_call(_LIB.XGBoosterEvalOneIter(self.handle,\n\u001b[0m\u001b[0;32m   1312\u001b[0m                                               \u001b[0mctypes\u001b[0m\u001b[1;33m.\u001b[0m\u001b[0mc_int\u001b[0m\u001b[1;33m(\u001b[0m\u001b[0miteration\u001b[0m\u001b[1;33m)\u001b[0m\u001b[1;33m,\u001b[0m\u001b[1;33m\u001b[0m\u001b[1;33m\u001b[0m\u001b[0m\n\u001b[0;32m   1313\u001b[0m                                               \u001b[0mdmats\u001b[0m\u001b[1;33m,\u001b[0m \u001b[0mevnames\u001b[0m\u001b[1;33m,\u001b[0m\u001b[1;33m\u001b[0m\u001b[1;33m\u001b[0m\u001b[0m\n",
      "\u001b[1;32md:\\python\\python38\\lib\\site-packages\\xgboost\\core.py\u001b[0m in \u001b[0;36m_check_call\u001b[1;34m(ret)\u001b[0m\n\u001b[0;32m    187\u001b[0m     \"\"\"\n\u001b[0;32m    188\u001b[0m     \u001b[1;32mif\u001b[0m \u001b[0mret\u001b[0m \u001b[1;33m!=\u001b[0m \u001b[1;36m0\u001b[0m\u001b[1;33m:\u001b[0m\u001b[1;33m\u001b[0m\u001b[1;33m\u001b[0m\u001b[0m\n\u001b[1;32m--> 189\u001b[1;33m         \u001b[1;32mraise\u001b[0m \u001b[0mXGBoostError\u001b[0m\u001b[1;33m(\u001b[0m\u001b[0mpy_str\u001b[0m\u001b[1;33m(\u001b[0m\u001b[0m_LIB\u001b[0m\u001b[1;33m.\u001b[0m\u001b[0mXGBGetLastError\u001b[0m\u001b[1;33m(\u001b[0m\u001b[1;33m)\u001b[0m\u001b[1;33m)\u001b[0m\u001b[1;33m)\u001b[0m\u001b[1;33m\u001b[0m\u001b[1;33m\u001b[0m\u001b[0m\n\u001b[0m\u001b[0;32m    190\u001b[0m \u001b[1;33m\u001b[0m\u001b[0m\n\u001b[0;32m    191\u001b[0m \u001b[1;33m\u001b[0m\u001b[0m\n",
      "\u001b[1;31mXGBoostError\u001b[0m: [18:24:51] C:/Users/Administrator/workspace/xgboost-win64_release_1.0.0/src/metric/elementwise_metric.cu:332: Check failed: preds.Size() == info.labels_.Size() (2223090 vs. 444618) : label and prediction size not match, hint: use merror or mlogloss for multi-class classification"
     ]
    }
   ],
   "source": [
    "# for train_index, test_index in kf.split(train_set_arr):\n",
    "#     print(\"TRAIN:\", train_index, \"TEST:\", test_index)\n",
    "#     X_train, X_test = train_set_arr[train_index], train_set_arr[test_index]\n",
    "#     y_train, y_test = train_y_arr[train_index], train_y_arr[test_index]\n",
    "    \n",
    "#     param_dist = {'max_depth':6, 'eta':0.15, 'silent':1, 'gamma':0, 'objective':'multi:softmax', 'num_class':6}\n",
    "\n",
    "#     model_xgb_classifier = xgb.XGBClassifier(**param_dist)\n",
    "#     model_xgb_classifier.fit(X_train, y_train,\n",
    "#         eval_set=[(X_train, y_train), (X_test, y_test)],\n",
    "#         eval_metric='logloss',\n",
    "#         verbose=True)\n",
    "#     evals_result = clf.evals_result()\n",
    "#     print(evals_result)"
   ]
  },
  {
   "cell_type": "code",
   "execution_count": 63,
   "metadata": {},
   "outputs": [
    {
     "data": {
      "text/plain": [
       "DecisionTreeClassifier(ccp_alpha=0.05, class_weight='balanced',\n",
       "                       criterion='gini', max_depth=8, max_features=None,\n",
       "                       max_leaf_nodes=None, min_impurity_decrease=0.0,\n",
       "                       min_impurity_split=None, min_samples_leaf=1,\n",
       "                       min_samples_split=2, min_weight_fraction_leaf=0.0,\n",
       "                       presort='deprecated', random_state=0, splitter='best')"
      ]
     },
     "execution_count": 63,
     "metadata": {},
     "output_type": "execute_result"
    }
   ],
   "source": [
    "clf_dt = DecisionTreeClassifier(random_state=0, max_depth = 8, class_weight = 'balanced', ccp_alpha = 0.05)\n",
    "clf_dt.fit(train_set, train_y_label)"
   ]
  },
  {
   "cell_type": "code",
   "execution_count": 64,
   "metadata": {
    "scrolled": true
   },
   "outputs": [
    {
     "data": {
      "text/plain": [
       "array([0, 0, 0, ..., 0, 0, 0])"
      ]
     },
     "execution_count": 64,
     "metadata": {},
     "output_type": "execute_result"
    }
   ],
   "source": [
    "y_predict_clf_dt = clf_dt.predict(test_set)\n",
    "y_predict_clf_dt"
   ]
  },
  {
   "cell_type": "markdown",
   "metadata": {},
   "source": [
    "2. Random forest"
   ]
  },
  {
   "cell_type": "code",
   "execution_count": 39,
   "metadata": {
    "scrolled": true
   },
   "outputs": [
    {
     "name": "stderr",
     "output_type": "stream",
     "text": [
      "<ipython-input-39-5112554d0ad5>:7: DataConversionWarning: A column-vector y was passed when a 1d array was expected. Please change the shape of y to (n_samples,), for example using ravel().\n",
      "  clf_rf.fit(train_set, train_y_label)\n"
     ]
    },
    {
     "data": {
      "text/plain": [
       "RandomForestClassifier(bootstrap=True, ccp_alpha=0.0, class_weight=None,\n",
       "                       criterion='gini', max_depth=6, max_features='auto',\n",
       "                       max_leaf_nodes=None, max_samples=None,\n",
       "                       min_impurity_decrease=0.0, min_impurity_split=None,\n",
       "                       min_samples_leaf=1, min_samples_split=2,\n",
       "                       min_weight_fraction_leaf=0.0, n_estimators=100,\n",
       "                       n_jobs=None, oob_score=False, random_state=0, verbose=0,\n",
       "                       warm_start=False)"
      ]
     },
     "execution_count": 39,
     "metadata": {},
     "output_type": "execute_result"
    }
   ],
   "source": [
    "from sklearn.ensemble import RandomForestClassifier\n",
    "from sklearn.datasets import make_classification\n",
    "# train_set, train_y_label = make_classification(n_samples=1000, n_features=4, n_informative=2, n_redundant=0, \\\n",
    "#                            random_state=0, shuffle=False)\n",
    "clf_rf = RandomForestClassifier(max_depth=6, random_state=0)\n",
    "\n",
    "clf_rf.fit(train_set, train_y_label)"
   ]
  },
  {
   "cell_type": "code",
   "execution_count": 40,
   "metadata": {},
   "outputs": [
    {
     "data": {
      "text/plain": [
       "array([0, 0, 0, ..., 0, 0, 0])"
      ]
     },
     "execution_count": 40,
     "metadata": {},
     "output_type": "execute_result"
    }
   ],
   "source": [
    "y_predict_clf_rf = clf_rf.predict(test_set)\n",
    "y_predict_clf_rf"
   ]
  },
  {
   "cell_type": "markdown",
   "metadata": {},
   "source": [
    "3. xgboost"
   ]
  },
  {
   "cell_type": "code",
   "execution_count": 39,
   "metadata": {},
   "outputs": [
    {
     "data": {
      "text/plain": [
       "(1074991, 104)"
      ]
     },
     "execution_count": 39,
     "metadata": {},
     "output_type": "execute_result"
    }
   ],
   "source": [
    "train_set.shape"
   ]
  },
  {
   "cell_type": "code",
   "execution_count": 40,
   "metadata": {},
   "outputs": [
    {
     "data": {
      "text/plain": [
       "(311029, 100)"
      ]
     },
     "execution_count": 40,
     "metadata": {},
     "output_type": "execute_result"
    }
   ],
   "source": [
    "test_set.shape"
   ]
  },
  {
   "cell_type": "code",
   "execution_count": null,
   "metadata": {},
   "outputs": [],
   "source": [
    "dtrain = xgb.DMatrix(train_set, label=train_y_label, missing = 0)\n",
    "\n",
    "param = {'max_depth':6, 'eta':0.15, 'silent':1, 'gamma':0, 'objective':'multi:softmax', 'num_class':5}\n",
    "num_round = 200\n",
    "model = xgb.train(param, dtrain, num_round)"
   ]
  },
  {
   "cell_type": "code",
   "execution_count": null,
   "metadata": {},
   "outputs": [],
   "source": [
    "dm_test = xgb.DMatrix(test_set[:10000], missing = 0)\n",
    "start_time = time.time()\n",
    "y_predict_clf_xgb = model.predict(dm_test)\n",
    "end_time = time.time()\n",
    "y_predict_clf_xgb\n",
    "end_time - start_time"
   ]
  },
  {
   "cell_type": "code",
   "execution_count": 44,
   "metadata": {},
   "outputs": [],
   "source": [
    "model.save_model('xgboost_origin_model')"
   ]
  },
  {
   "cell_type": "code",
   "execution_count": 38,
   "metadata": {},
   "outputs": [],
   "source": [
    "pickle.dump(model, open(\"xgboost_origin_model.dat\", \"wb\"))"
   ]
  },
  {
   "cell_type": "code",
   "execution_count": 39,
   "metadata": {},
   "outputs": [],
   "source": [
    "loaded_model = pickle.load(open(\"xgboost_origin_model.dat\", \"rb\"))"
   ]
  },
  {
   "cell_type": "code",
   "execution_count": 40,
   "metadata": {},
   "outputs": [],
   "source": [
    "test = loaded_model.predict(dm_test)"
   ]
  },
  {
   "cell_type": "code",
   "execution_count": 41,
   "metadata": {
    "scrolled": true
   },
   "outputs": [
    {
     "data": {
      "text/plain": [
       "True"
      ]
     },
     "execution_count": 41,
     "metadata": {},
     "output_type": "execute_result"
    }
   ],
   "source": [
    "(y_predict_clf_xgb == test).all()"
   ]
  },
  {
   "cell_type": "code",
   "execution_count": 47,
   "metadata": {},
   "outputs": [],
   "source": [
    "bst = xgb.Booster({'nthread': 4})\n",
    "m = bst.load_model('xgboost_origin_model')"
   ]
  },
  {
   "cell_type": "code",
   "execution_count": 78,
   "metadata": {
    "scrolled": true
   },
   "outputs": [
    {
     "data": {
      "text/html": [
       "<div>\n",
       "<style scoped>\n",
       "    .dataframe tbody tr th:only-of-type {\n",
       "        vertical-align: middle;\n",
       "    }\n",
       "\n",
       "    .dataframe tbody tr th {\n",
       "        vertical-align: top;\n",
       "    }\n",
       "\n",
       "    .dataframe thead th {\n",
       "        text-align: right;\n",
       "    }\n",
       "</style>\n",
       "<table border=\"1\" class=\"dataframe\">\n",
       "  <thead>\n",
       "    <tr style=\"text-align: right;\">\n",
       "      <th></th>\n",
       "      <th>0</th>\n",
       "      <th>1</th>\n",
       "      <th>2</th>\n",
       "      <th>3</th>\n",
       "      <th>4</th>\n",
       "      <th>5</th>\n",
       "      <th>6</th>\n",
       "      <th>7</th>\n",
       "      <th>8</th>\n",
       "      <th>9</th>\n",
       "      <th>...</th>\n",
       "      <th>90</th>\n",
       "      <th>91</th>\n",
       "      <th>92</th>\n",
       "      <th>93</th>\n",
       "      <th>94</th>\n",
       "      <th>95</th>\n",
       "      <th>96</th>\n",
       "      <th>97</th>\n",
       "      <th>98</th>\n",
       "      <th>99</th>\n",
       "    </tr>\n",
       "  </thead>\n",
       "  <tbody>\n",
       "    <tr>\n",
       "      <th>0</th>\n",
       "      <td>0</td>\n",
       "      <td>4.663439</td>\n",
       "      <td>4.990433</td>\n",
       "      <td>0</td>\n",
       "      <td>0</td>\n",
       "      <td>0</td>\n",
       "      <td>0</td>\n",
       "      <td>1</td>\n",
       "      <td>1</td>\n",
       "      <td>0.0</td>\n",
       "      <td>...</td>\n",
       "      <td>0</td>\n",
       "      <td>0</td>\n",
       "      <td>0</td>\n",
       "      <td>0</td>\n",
       "      <td>0</td>\n",
       "      <td>0</td>\n",
       "      <td>0</td>\n",
       "      <td>0</td>\n",
       "      <td>1</td>\n",
       "      <td>0</td>\n",
       "    </tr>\n",
       "  </tbody>\n",
       "</table>\n",
       "<p>1 rows × 100 columns</p>\n",
       "</div>"
      ],
      "text/plain": [
       "   0         1         2   3   4   5   6   7   8    9   ...  90  91  92  93  \\\n",
       "0   0  4.663439  4.990433   0   0   0   0   1   1  0.0  ...   0   0   0   0   \n",
       "\n",
       "   94  95  96  97  98  99  \n",
       "0   0   0   0   0   1   0  \n",
       "\n",
       "[1 rows x 100 columns]"
      ]
     },
     "execution_count": 78,
     "metadata": {},
     "output_type": "execute_result"
    }
   ],
   "source": [
    "a = pd.DataFrame([[0,4.663439094112067,4.990432586778736,0,0,0,0,1,1,0.0,1.0,0.0,0.0,255,254,1.0,0.01,0.0,0.0,0.0,0.0,0.0,0,0,1,0,0,0,0,0,0,0,0,0,0,0,0,0,0,0,0,0,0,0,0,0,0,0,0,0,0,0,0,0,0,0,0,0,0,0,0,0,0,0,0,0,0,0,0,0,1,0,0,0,0,0,0,0,0,0,0,0,0,0,0,0,0,0,0,0,0,0,0,0,0,\\\n",
    " 0,0,0,1,0]])\n",
    "a"
   ]
  },
  {
   "cell_type": "code",
   "execution_count": 102,
   "metadata": {},
   "outputs": [
    {
     "data": {
      "text/plain": [
       "array([0.], dtype=float32)"
      ]
     },
     "execution_count": 102,
     "metadata": {},
     "output_type": "execute_result"
    }
   ],
   "source": [
    "bst.predict(xgb.DMatrix(a), validate_features=False)"
   ]
  },
  {
   "cell_type": "code",
   "execution_count": 55,
   "metadata": {},
   "outputs": [
    {
     "data": {
      "text/html": [
       "<div>\n",
       "<style scoped>\n",
       "    .dataframe tbody tr th:only-of-type {\n",
       "        vertical-align: middle;\n",
       "    }\n",
       "\n",
       "    .dataframe tbody tr th {\n",
       "        vertical-align: top;\n",
       "    }\n",
       "\n",
       "    .dataframe thead th {\n",
       "        text-align: right;\n",
       "    }\n",
       "</style>\n",
       "<table border=\"1\" class=\"dataframe\">\n",
       "  <thead>\n",
       "    <tr style=\"text-align: right;\">\n",
       "      <th></th>\n",
       "      <th>duration</th>\n",
       "      <th>src_bytes</th>\n",
       "      <th>dst_bytes</th>\n",
       "      <th>hot</th>\n",
       "      <th>su_attempted</th>\n",
       "      <th>num_outbound_cmds</th>\n",
       "      <th>is_host_login</th>\n",
       "      <th>count</th>\n",
       "      <th>srv_count</th>\n",
       "      <th>rerror_rate</th>\n",
       "      <th>...</th>\n",
       "      <th>flag_REJ</th>\n",
       "      <th>flag_RSTO</th>\n",
       "      <th>flag_RSTOS0</th>\n",
       "      <th>flag_RSTR</th>\n",
       "      <th>flag_S0</th>\n",
       "      <th>flag_S1</th>\n",
       "      <th>flag_S2</th>\n",
       "      <th>flag_S3</th>\n",
       "      <th>flag_SF</th>\n",
       "      <th>flag_SH</th>\n",
       "    </tr>\n",
       "  </thead>\n",
       "  <tbody>\n",
       "    <tr>\n",
       "      <th>0</th>\n",
       "      <td>0</td>\n",
       "      <td>4.663439</td>\n",
       "      <td>4.990433</td>\n",
       "      <td>0</td>\n",
       "      <td>0</td>\n",
       "      <td>0</td>\n",
       "      <td>0</td>\n",
       "      <td>1</td>\n",
       "      <td>1</td>\n",
       "      <td>0.0</td>\n",
       "      <td>...</td>\n",
       "      <td>0</td>\n",
       "      <td>0</td>\n",
       "      <td>0</td>\n",
       "      <td>0</td>\n",
       "      <td>0</td>\n",
       "      <td>0</td>\n",
       "      <td>0</td>\n",
       "      <td>0</td>\n",
       "      <td>1</td>\n",
       "      <td>0</td>\n",
       "    </tr>\n",
       "    <tr>\n",
       "      <th>1</th>\n",
       "      <td>0</td>\n",
       "      <td>4.663439</td>\n",
       "      <td>4.990433</td>\n",
       "      <td>0</td>\n",
       "      <td>0</td>\n",
       "      <td>0</td>\n",
       "      <td>0</td>\n",
       "      <td>1</td>\n",
       "      <td>1</td>\n",
       "      <td>0.0</td>\n",
       "      <td>...</td>\n",
       "      <td>0</td>\n",
       "      <td>0</td>\n",
       "      <td>0</td>\n",
       "      <td>0</td>\n",
       "      <td>0</td>\n",
       "      <td>0</td>\n",
       "      <td>0</td>\n",
       "      <td>0</td>\n",
       "      <td>1</td>\n",
       "      <td>0</td>\n",
       "    </tr>\n",
       "    <tr>\n",
       "      <th>2</th>\n",
       "      <td>0</td>\n",
       "      <td>4.663439</td>\n",
       "      <td>4.990433</td>\n",
       "      <td>0</td>\n",
       "      <td>0</td>\n",
       "      <td>0</td>\n",
       "      <td>0</td>\n",
       "      <td>1</td>\n",
       "      <td>1</td>\n",
       "      <td>0.0</td>\n",
       "      <td>...</td>\n",
       "      <td>0</td>\n",
       "      <td>0</td>\n",
       "      <td>0</td>\n",
       "      <td>0</td>\n",
       "      <td>0</td>\n",
       "      <td>0</td>\n",
       "      <td>0</td>\n",
       "      <td>0</td>\n",
       "      <td>1</td>\n",
       "      <td>0</td>\n",
       "    </tr>\n",
       "    <tr>\n",
       "      <th>3</th>\n",
       "      <td>0</td>\n",
       "      <td>4.663439</td>\n",
       "      <td>4.990433</td>\n",
       "      <td>0</td>\n",
       "      <td>0</td>\n",
       "      <td>0</td>\n",
       "      <td>0</td>\n",
       "      <td>2</td>\n",
       "      <td>2</td>\n",
       "      <td>0.0</td>\n",
       "      <td>...</td>\n",
       "      <td>0</td>\n",
       "      <td>0</td>\n",
       "      <td>0</td>\n",
       "      <td>0</td>\n",
       "      <td>0</td>\n",
       "      <td>0</td>\n",
       "      <td>0</td>\n",
       "      <td>0</td>\n",
       "      <td>1</td>\n",
       "      <td>0</td>\n",
       "    </tr>\n",
       "    <tr>\n",
       "      <th>4</th>\n",
       "      <td>0</td>\n",
       "      <td>4.663439</td>\n",
       "      <td>4.990433</td>\n",
       "      <td>0</td>\n",
       "      <td>0</td>\n",
       "      <td>0</td>\n",
       "      <td>0</td>\n",
       "      <td>2</td>\n",
       "      <td>2</td>\n",
       "      <td>0.0</td>\n",
       "      <td>...</td>\n",
       "      <td>0</td>\n",
       "      <td>0</td>\n",
       "      <td>0</td>\n",
       "      <td>0</td>\n",
       "      <td>0</td>\n",
       "      <td>0</td>\n",
       "      <td>0</td>\n",
       "      <td>0</td>\n",
       "      <td>1</td>\n",
       "      <td>0</td>\n",
       "    </tr>\n",
       "    <tr>\n",
       "      <th>...</th>\n",
       "      <td>...</td>\n",
       "      <td>...</td>\n",
       "      <td>...</td>\n",
       "      <td>...</td>\n",
       "      <td>...</td>\n",
       "      <td>...</td>\n",
       "      <td>...</td>\n",
       "      <td>...</td>\n",
       "      <td>...</td>\n",
       "      <td>...</td>\n",
       "      <td>...</td>\n",
       "      <td>...</td>\n",
       "      <td>...</td>\n",
       "      <td>...</td>\n",
       "      <td>...</td>\n",
       "      <td>...</td>\n",
       "      <td>...</td>\n",
       "      <td>...</td>\n",
       "      <td>...</td>\n",
       "      <td>...</td>\n",
       "      <td>...</td>\n",
       "    </tr>\n",
       "    <tr>\n",
       "      <th>311024</th>\n",
       "      <td>0</td>\n",
       "      <td>4.663439</td>\n",
       "      <td>4.997212</td>\n",
       "      <td>0</td>\n",
       "      <td>0</td>\n",
       "      <td>0</td>\n",
       "      <td>0</td>\n",
       "      <td>2</td>\n",
       "      <td>2</td>\n",
       "      <td>0.0</td>\n",
       "      <td>...</td>\n",
       "      <td>0</td>\n",
       "      <td>0</td>\n",
       "      <td>0</td>\n",
       "      <td>0</td>\n",
       "      <td>0</td>\n",
       "      <td>0</td>\n",
       "      <td>0</td>\n",
       "      <td>0</td>\n",
       "      <td>1</td>\n",
       "      <td>0</td>\n",
       "    </tr>\n",
       "    <tr>\n",
       "      <th>311025</th>\n",
       "      <td>0</td>\n",
       "      <td>4.663439</td>\n",
       "      <td>4.997212</td>\n",
       "      <td>0</td>\n",
       "      <td>0</td>\n",
       "      <td>0</td>\n",
       "      <td>0</td>\n",
       "      <td>4</td>\n",
       "      <td>4</td>\n",
       "      <td>0.0</td>\n",
       "      <td>...</td>\n",
       "      <td>0</td>\n",
       "      <td>0</td>\n",
       "      <td>0</td>\n",
       "      <td>0</td>\n",
       "      <td>0</td>\n",
       "      <td>0</td>\n",
       "      <td>0</td>\n",
       "      <td>0</td>\n",
       "      <td>1</td>\n",
       "      <td>0</td>\n",
       "    </tr>\n",
       "    <tr>\n",
       "      <th>311026</th>\n",
       "      <td>0</td>\n",
       "      <td>4.663439</td>\n",
       "      <td>4.997212</td>\n",
       "      <td>0</td>\n",
       "      <td>0</td>\n",
       "      <td>0</td>\n",
       "      <td>0</td>\n",
       "      <td>2</td>\n",
       "      <td>2</td>\n",
       "      <td>0.0</td>\n",
       "      <td>...</td>\n",
       "      <td>0</td>\n",
       "      <td>0</td>\n",
       "      <td>0</td>\n",
       "      <td>0</td>\n",
       "      <td>0</td>\n",
       "      <td>0</td>\n",
       "      <td>0</td>\n",
       "      <td>0</td>\n",
       "      <td>1</td>\n",
       "      <td>0</td>\n",
       "    </tr>\n",
       "    <tr>\n",
       "      <th>311027</th>\n",
       "      <td>0</td>\n",
       "      <td>4.663439</td>\n",
       "      <td>4.997212</td>\n",
       "      <td>0</td>\n",
       "      <td>0</td>\n",
       "      <td>0</td>\n",
       "      <td>0</td>\n",
       "      <td>4</td>\n",
       "      <td>4</td>\n",
       "      <td>0.0</td>\n",
       "      <td>...</td>\n",
       "      <td>0</td>\n",
       "      <td>0</td>\n",
       "      <td>0</td>\n",
       "      <td>0</td>\n",
       "      <td>0</td>\n",
       "      <td>0</td>\n",
       "      <td>0</td>\n",
       "      <td>0</td>\n",
       "      <td>1</td>\n",
       "      <td>0</td>\n",
       "    </tr>\n",
       "    <tr>\n",
       "      <th>311028</th>\n",
       "      <td>0</td>\n",
       "      <td>4.663439</td>\n",
       "      <td>4.997212</td>\n",
       "      <td>0</td>\n",
       "      <td>0</td>\n",
       "      <td>0</td>\n",
       "      <td>0</td>\n",
       "      <td>2</td>\n",
       "      <td>2</td>\n",
       "      <td>0.0</td>\n",
       "      <td>...</td>\n",
       "      <td>0</td>\n",
       "      <td>0</td>\n",
       "      <td>0</td>\n",
       "      <td>0</td>\n",
       "      <td>0</td>\n",
       "      <td>0</td>\n",
       "      <td>0</td>\n",
       "      <td>0</td>\n",
       "      <td>1</td>\n",
       "      <td>0</td>\n",
       "    </tr>\n",
       "  </tbody>\n",
       "</table>\n",
       "<p>311029 rows × 100 columns</p>\n",
       "</div>"
      ],
      "text/plain": [
       "        duration  src_bytes  dst_bytes  hot  su_attempted  num_outbound_cmds  \\\n",
       "0              0   4.663439   4.990433    0             0                  0   \n",
       "1              0   4.663439   4.990433    0             0                  0   \n",
       "2              0   4.663439   4.990433    0             0                  0   \n",
       "3              0   4.663439   4.990433    0             0                  0   \n",
       "4              0   4.663439   4.990433    0             0                  0   \n",
       "...          ...        ...        ...  ...           ...                ...   \n",
       "311024         0   4.663439   4.997212    0             0                  0   \n",
       "311025         0   4.663439   4.997212    0             0                  0   \n",
       "311026         0   4.663439   4.997212    0             0                  0   \n",
       "311027         0   4.663439   4.997212    0             0                  0   \n",
       "311028         0   4.663439   4.997212    0             0                  0   \n",
       "\n",
       "        is_host_login  count  srv_count  rerror_rate  ...  flag_REJ  \\\n",
       "0                   0      1          1          0.0  ...         0   \n",
       "1                   0      1          1          0.0  ...         0   \n",
       "2                   0      1          1          0.0  ...         0   \n",
       "3                   0      2          2          0.0  ...         0   \n",
       "4                   0      2          2          0.0  ...         0   \n",
       "...               ...    ...        ...          ...  ...       ...   \n",
       "311024              0      2          2          0.0  ...         0   \n",
       "311025              0      4          4          0.0  ...         0   \n",
       "311026              0      2          2          0.0  ...         0   \n",
       "311027              0      4          4          0.0  ...         0   \n",
       "311028              0      2          2          0.0  ...         0   \n",
       "\n",
       "        flag_RSTO  flag_RSTOS0  flag_RSTR  flag_S0  flag_S1  flag_S2  flag_S3  \\\n",
       "0               0            0          0        0        0        0        0   \n",
       "1               0            0          0        0        0        0        0   \n",
       "2               0            0          0        0        0        0        0   \n",
       "3               0            0          0        0        0        0        0   \n",
       "4               0            0          0        0        0        0        0   \n",
       "...           ...          ...        ...      ...      ...      ...      ...   \n",
       "311024          0            0          0        0        0        0        0   \n",
       "311025          0            0          0        0        0        0        0   \n",
       "311026          0            0          0        0        0        0        0   \n",
       "311027          0            0          0        0        0        0        0   \n",
       "311028          0            0          0        0        0        0        0   \n",
       "\n",
       "        flag_SF  flag_SH  \n",
       "0             1        0  \n",
       "1             1        0  \n",
       "2             1        0  \n",
       "3             1        0  \n",
       "4             1        0  \n",
       "...         ...      ...  \n",
       "311024        1        0  \n",
       "311025        1        0  \n",
       "311026        1        0  \n",
       "311027        1        0  \n",
       "311028        1        0  \n",
       "\n",
       "[311029 rows x 100 columns]"
      ]
     },
     "execution_count": 55,
     "metadata": {},
     "output_type": "execute_result"
    }
   ],
   "source": [
    "test_set"
   ]
  },
  {
   "cell_type": "markdown",
   "metadata": {},
   "source": [
    "4. XGBClassifier"
   ]
  },
  {
   "cell_type": "code",
   "execution_count": 43,
   "metadata": {},
   "outputs": [
    {
     "name": "stderr",
     "output_type": "stream",
     "text": [
      "d:\\python\\python38\\lib\\site-packages\\sklearn\\preprocessing\\_label.py:235: DataConversionWarning: A column-vector y was passed when a 1d array was expected. Please change the shape of y to (n_samples, ), for example using ravel().\n",
      "  y = column_or_1d(y, warn=True)\n",
      "d:\\python\\python38\\lib\\site-packages\\sklearn\\preprocessing\\_label.py:268: DataConversionWarning: A column-vector y was passed when a 1d array was expected. Please change the shape of y to (n_samples, ), for example using ravel().\n",
      "  y = column_or_1d(y, warn=True)\n"
     ]
    },
    {
     "data": {
      "text/plain": [
       "XGBClassifier(base_score=0.5, booster=None, colsample_bylevel=1,\n",
       "              colsample_bynode=1, colsample_bytree=1, eta=0.15, gamma=0,\n",
       "              gpu_id=-1, importance_type='gain', interaction_constraints=None,\n",
       "              learning_rate=0.150000006, max_delta_step=0, max_depth=6,\n",
       "              min_child_weight=1, missing=nan, monotone_constraints=None,\n",
       "              n_estimators=100, n_jobs=0, num_class=6, num_parallel_tree=1,\n",
       "              objective='multi:softprob', random_state=0, reg_alpha=0,\n",
       "              reg_lambda=1, scale_pos_weight=None, silent=1, subsample=1,\n",
       "              tree_method=None, validate_parameters=False, verbosity=None)"
      ]
     },
     "execution_count": 43,
     "metadata": {},
     "output_type": "execute_result"
    }
   ],
   "source": [
    "param_dist = {'max_depth':6, 'eta':0.15, 'silent':1, 'gamma':0, 'objective':'multi:softmax', 'num_class':5}\n",
    "\n",
    "model_xgb_classifier = xgb.XGBClassifier(**param_dist)\n",
    "model_xgb_classifier.fit(train_set, train_y_label, verbose=True)"
   ]
  },
  {
   "cell_type": "code",
   "execution_count": 44,
   "metadata": {
    "scrolled": false
   },
   "outputs": [
    {
     "data": {
      "text/plain": [
       "array([0, 0, 0, ..., 0, 0, 0])"
      ]
     },
     "execution_count": 44,
     "metadata": {},
     "output_type": "execute_result"
    }
   ],
   "source": [
    "y_predict_clf_xgbclassifier = model_xgb_classifier.predict(test_set)\n",
    "y_predict_clf_xgbclassifier"
   ]
  },
  {
   "cell_type": "code",
   "execution_count": 66,
   "metadata": {},
   "outputs": [
    {
     "name": "stdout",
     "output_type": "stream",
     "text": [
      "2 s ± 353 µs per loop (mean ± std. dev. of 7 runs, 1 loop each)\n"
     ]
    }
   ],
   "source": [
    "%%time\n",
    "time.sleep(2)"
   ]
  },
  {
   "cell_type": "code",
   "execution_count": 42,
   "metadata": {},
   "outputs": [
    {
     "data": {
      "text/plain": [
       "2.0"
      ]
     },
     "execution_count": 42,
     "metadata": {},
     "output_type": "execute_result"
    }
   ],
   "source": [
    "y_predict_clf_xgb[816]"
   ]
  },
  {
   "cell_type": "code",
   "execution_count": null,
   "metadata": {},
   "outputs": [],
   "source": []
  },
  {
   "cell_type": "markdown",
   "metadata": {},
   "source": [
    "# Tuning model"
   ]
  },
  {
   "cell_type": "code",
   "execution_count": 50,
   "metadata": {},
   "outputs": [
    {
     "data": {
      "text/plain": [
       "XGBClassifier(base_score=0.5, booster=None, colsample_bylevel=1,\n",
       "              colsample_bynode=1, colsample_bytree=1, eta=0.15, gamma=1,\n",
       "              gpu_id=-1, importance_type='gain', interaction_constraints=None,\n",
       "              learning_rate=0.150000006, max_delta_step=0, max_depth=6,\n",
       "              min_child_weight=1, missing=nan, monotone_constraints=None,\n",
       "              n_estimators=100, n_jobs=0, num_class=6, num_parallel_tree=1,\n",
       "              objective='multi:softprob', random_state=0, reg_alpha=0,\n",
       "              reg_lambda=1, scale_pos_weight=None, silent=1, subsample=1,\n",
       "              tree_method=None, validate_parameters=False, verbosity=None)"
      ]
     },
     "execution_count": 50,
     "metadata": {},
     "output_type": "execute_result"
    }
   ],
   "source": [
    "param_dist = {'max_depth':6, 'eta':0.15, 'silent':1, 'gamma':1, 'objective':'multi:softmax', 'num_class':6}\n",
    "\n",
    "model_xgb_classifier = xgb.XGBClassifier(**param_dist)\n",
    "model_xgb_classifier.fit(train_set, train_y_label, verbose=True)"
   ]
  },
  {
   "cell_type": "code",
   "execution_count": 51,
   "metadata": {
    "scrolled": true
   },
   "outputs": [
    {
     "name": "stdout",
     "output_type": "stream",
     "text": [
      "Algorithm: xgboostclassifier\n",
      "              precision    recall  f1-score   support\n",
      "\n",
      "      normal       0.74      1.00      0.85     60593\n",
      "       probe       0.92      0.81      0.86      4166\n",
      "         dos       1.00      0.97      0.98    231455\n",
      "         u2r       0.67      0.17      0.27        70\n",
      "         r2l       0.00      0.00      0.00     14745\n",
      "\n",
      "    accuracy                           0.92    311029\n",
      "   macro avg       0.66      0.59      0.59    311029\n",
      "weighted avg       0.90      0.92      0.91    311029\n",
      "\n"
     ]
    }
   ],
   "source": [
    "y_predict_clf_xgbclassifier = model_xgb_classifier.predict(test_set)\n",
    "y_predict_clf_xgbclassifier\n",
    "eva_fun_2(test_y_label, y_predict_clf_xgbclassifier, \"xgboostclassifier\")"
   ]
  },
  {
   "cell_type": "code",
   "execution_count": 76,
   "metadata": {},
   "outputs": [],
   "source": [
    "def tune_eva(predict):\n",
    "    predict = predict.astype('int')\n",
    "    num = 0\n",
    "    for i in range(len(test_y_label)):\n",
    "        if (test_y_label['result'][i] == predict[i]):\n",
    "            num += 1\n",
    "    return num/len(test_y_label)"
   ]
  },
  {
   "cell_type": "code",
   "execution_count": 83,
   "metadata": {
    "scrolled": true
   },
   "outputs": [
    {
     "name": "stdout",
     "output_type": "stream",
     "text": [
      "iteration: 0 gamma: 0.0 score: 0.9240906796472355\n",
      "iteration: 1 gamma: 0.05 score: 0.9242096396155985\n",
      "iteration: 2 gamma: 0.1 score: 0.9240424526330342\n",
      "iteration: 3 gamma: 0.15 score: 0.9240810342443952\n",
      "iteration: 4 gamma: 0.2 score: 0.9242482212269596\n",
      "iteration: 5 gamma: 0.25 score: 0.9240006558873931\n",
      "iteration: 6 gamma: 0.3 score: 0.9240038710216733\n",
      "iteration: 7 gamma: 0.35 score: 0.9242064244813185\n",
      "iteration: 8 gamma: 0.4 score: 0.9241742731385176\n",
      "iteration: 9 gamma: 0.45 score: 0.92426429689836\n",
      "iteration: 10 gamma: 0.5 score: 0.9241646277356774\n",
      "iteration: 11 gamma: 0.55 score: 0.9242417909583994\n",
      "iteration: 12 gamma: 0.6 score: 0.9243125239125612\n",
      "iteration: 13 gamma: 0.65 score: 0.9243125239125612\n",
      "iteration: 14 gamma: 0.7 score: 0.9243285995839616\n",
      "iteration: 15 gamma: 0.75 score: 0.9242578666297998\n",
      "iteration: 16 gamma: 0.8 score: 0.9243028785097209\n",
      "iteration: 17 gamma: 0.85 score: 0.9242257152869989\n",
      "iteration: 18 gamma: 0.9 score: 0.9242064244813185\n",
      "iteration: 19 gamma: 0.95 score: 0.9243800417324429\n",
      "iteration: 20 gamma: 1.0 score: 0.9245150773722064\n",
      "iteration: 21 gamma: 1.05 score: 0.9243511055239222\n",
      "iteration: 22 gamma: 1.1 score: 0.9243896871352832\n",
      "iteration: 23 gamma: 1.15 score: 0.9242610817640798\n",
      "iteration: 24 gamma: 1.2 score: 0.9242868028383205\n",
      "iteration: 25 gamma: 1.25 score: 0.9242610817640798\n",
      "iteration: 26 gamma: 1.3 score: 0.924113185587196\n",
      "iteration: 27 gamma: 1.35 score: 0.9243157390468413\n",
      "iteration: 28 gamma: 1.4 score: 0.9243125239125612\n",
      "iteration: 29 gamma: 1.45 score: 0.92426751203264\n",
      "iteration: 30 gamma: 1.5 score: 0.9242385758241193\n",
      "iteration: 31 gamma: 1.55 score: 0.9243125239125612\n",
      "iteration: 32 gamma: 1.6 score: 0.9241839185413578\n",
      "iteration: 33 gamma: 1.65 score: 0.924187133675638\n",
      "iteration: 34 gamma: 1.7 score: 0.9242096396155985\n",
      "iteration: 35 gamma: 1.75 score: 0.9241807034070778\n",
      "iteration: 36 gamma: 1.8 score: 0.9241485520642769\n",
      "iteration: 37 gamma: 1.85 score: 0.9242225001527189\n",
      "iteration: 38 gamma: 1.9 score: 0.9240938947815156\n",
      "iteration: 39 gamma: 1.95 score: 0.9241710580042376\n",
      "iteration: 40 gamma: 2.0 score: 0.9241549823328371\n",
      "iteration: 41 gamma: 2.05 score: 0.9240746039758351\n",
      "iteration: 42 gamma: 2.1 score: 0.9240649585729948\n",
      "iteration: 43 gamma: 2.15 score: 0.9240938947815156\n",
      "iteration: 44 gamma: 2.2 score: 0.9240874645129554\n",
      "iteration: 45 gamma: 2.25 score: 0.9242450060926795\n",
      "iteration: 46 gamma: 2.3 score: 0.9241228309900363\n",
      "iteration: 47 gamma: 2.35 score: 0.9241196158557562\n",
      "iteration: 48 gamma: 2.4 score: 0.9240938947815156\n",
      "iteration: 49 gamma: 2.45 score: 0.9240874645129554\n",
      "iteration: 50 gamma: 2.5 score: 0.9240810342443952\n",
      "iteration: 51 gamma: 2.55 score: 0.9240617434387147\n",
      "iteration: 52 gamma: 2.6 score: 0.9240746039758351\n",
      "iteration: 53 gamma: 2.65 score: 0.9240488829015944\n",
      "iteration: 54 gamma: 2.7 score: 0.9240617434387147\n",
      "iteration: 55 gamma: 2.75 score: 0.9240906796472355\n",
      "iteration: 56 gamma: 2.8 score: 0.9241389066614367\n",
      "iteration: 57 gamma: 2.85 score: 0.9240520980358745\n",
      "iteration: 58 gamma: 2.9 score: 0.9240456677673143\n",
      "iteration: 59 gamma: 2.95 score: 0.924032807230194\n",
      "iteration: 60 gamma: 3.0 score: 0.9240392374987542\n",
      "iteration: 61 gamma: 3.05 score: 0.9241164007214762\n",
      "iteration: 62 gamma: 3.1 score: 0.9241003250500757\n",
      "iteration: 63 gamma: 3.15 score: 0.9240585283044347\n",
      "iteration: 64 gamma: 3.2 score: 0.924036022364474\n",
      "iteration: 65 gamma: 3.25 score: 0.9240746039758351\n",
      "iteration: 66 gamma: 3.3 score: 0.9240810342443952\n",
      "iteration: 67 gamma: 3.35 score: 0.9240713888415549\n",
      "iteration: 68 gamma: 3.4 score: 0.9240971099157956\n",
      "iteration: 69 gamma: 3.45 score: 0.9240488829015944\n",
      "iteration: 70 gamma: 3.5 score: 0.9240553131701545\n",
      "iteration: 71 gamma: 3.55 score: 0.9241581974671172\n",
      "iteration: 72 gamma: 3.6 score: 0.924109970452916\n",
      "iteration: 73 gamma: 3.65 score: 0.9240520980358745\n",
      "iteration: 74 gamma: 3.7 score: 0.9240135164245135\n",
      "iteration: 75 gamma: 3.75 score: 0.9240070861559533\n",
      "iteration: 76 gamma: 3.8 score: 0.9240488829015944\n",
      "iteration: 77 gamma: 3.85 score: 0.9239910104845529\n",
      "iteration: 78 gamma: 3.9 score: 0.9240392374987542\n",
      "iteration: 79 gamma: 3.95 score: 0.9240167315587936\n",
      "iteration: 80 gamma: 4.0 score: 0.9240488829015944\n",
      "iteration: 81 gamma: 4.05 score: 0.9239910104845529\n",
      "iteration: 82 gamma: 4.1 score: 0.9240520980358745\n",
      "iteration: 83 gamma: 4.15 score: 0.9240070861559533\n",
      "iteration: 84 gamma: 4.2 score: 0.9240424526330342\n",
      "iteration: 85 gamma: 4.25 score: 0.9239942256188329\n",
      "iteration: 86 gamma: 4.3 score: 0.9240295920959138\n",
      "iteration: 87 gamma: 4.35 score: 0.9240167315587936\n",
      "iteration: 88 gamma: 4.4 score: 0.9239749348131525\n",
      "iteration: 89 gamma: 4.45 score: 0.9240456677673143\n",
      "iteration: 90 gamma: 4.5 score: 0.9240167315587936\n",
      "iteration: 91 gamma: 4.55 score: 0.9240199466930736\n",
      "iteration: 92 gamma: 4.6 score: 0.924036022364474\n",
      "iteration: 93 gamma: 4.65 score: 0.9239845802159927\n",
      "iteration: 94 gamma: 4.7 score: 0.9240424526330342\n",
      "iteration: 95 gamma: 4.75 score: 0.9240199466930736\n",
      "iteration: 96 gamma: 4.8 score: 0.9240231618273537\n",
      "iteration: 97 gamma: 4.85 score: 0.9240263769616338\n",
      "iteration: 98 gamma: 4.9 score: 0.9240135164245135\n",
      "iteration: 99 gamma: 4.95 score: 0.9240295920959138\n",
      "The highest score's gamma is 1.0\n"
     ]
    }
   ],
   "source": [
    "param_test = { 'gamma':[i/20.0 for i in range(0,100)] }    # 0.05, 0.1, 0.15, ...... 5\n",
    "Max_score = 0\n",
    "gama = 0;\n",
    "for i in range(100):\n",
    "    xgbclass = XGBClassifier(gamma = param_test['gamma'][i], max_depth=6, eta=0.15, silent=1, \\\n",
    "                             objective='multi:softmax', num_class=5)\n",
    "    xgbclass.fit(train_set, train_y_label)\n",
    "    y_tune_xgbclassifier = xgbclass.predict(test_set)\n",
    "    score = tune_eva(y_tune_xgbclassifier)\n",
    "    print(\"iteration: \" + str(i) + \" gamma: \" + str(param_test['gamma'][i]) + \" score: \" + str(score))\n",
    "    if (score > Max_score):\n",
    "        Max_score = score\n",
    "        gama = param_test['gamma'][i]\n",
    "print(\"The highest score's gamma is \" + str(gama))\n",
    "# gsearch = GridSearchCV(estimator = XGBClassifier( max_depth=6, eta=0.15, silent=1, \\\n",
    "#                     objective='multi:softmax', num_class=5), \\\n",
    "#                     param_grid = param_test, scoring='roc_auc',n_jobs=4,iid=False, cv=5)\n",
    "# gsearch.fit(train_set, train_y_label)\n",
    "# gsearch.grid_scores_, gsearch1.best_params_, gsearch1.best_score_"
   ]
  },
  {
   "cell_type": "code",
   "execution_count": 34,
   "metadata": {
    "scrolled": true
   },
   "outputs": [
    {
     "ename": "NameError",
     "evalue": "name 'XGBClassifier' is not defined",
     "output_type": "error",
     "traceback": [
      "\u001b[1;31m---------------------------------------------------------------------------\u001b[0m",
      "\u001b[1;31mNameError\u001b[0m                                 Traceback (most recent call last)",
      "\u001b[1;32m<ipython-input-34-40e2c106da04>\u001b[0m in \u001b[0;36m<module>\u001b[1;34m\u001b[0m\n\u001b[1;32m----> 1\u001b[1;33m xgbclass = XGBClassifier(gamma = 1, max_depth=6, eta=0.15, silent=1, max_delta_step = 10, \\\n\u001b[0m\u001b[0;32m      2\u001b[0m                              \u001b[0mn_jobs\u001b[0m \u001b[1;33m=\u001b[0m \u001b[1;36m8\u001b[0m\u001b[1;33m,\u001b[0m \u001b[0mobjective\u001b[0m\u001b[1;33m=\u001b[0m\u001b[1;34m'multi:softmax'\u001b[0m\u001b[1;33m,\u001b[0m \u001b[0mnum_class\u001b[0m\u001b[1;33m=\u001b[0m\u001b[1;36m5\u001b[0m\u001b[1;33m,\u001b[0m \u001b[0mreg_alpha\u001b[0m \u001b[1;33m=\u001b[0m \u001b[1;36m0\u001b[0m\u001b[0;31m \u001b[0m\u001b[0;31m\\\u001b[0m\u001b[1;33m\u001b[0m\u001b[1;33m\u001b[0m\u001b[0m\n\u001b[0;32m      3\u001b[0m                         , scale_pos_weight = -500)\n\u001b[0;32m      4\u001b[0m \u001b[0mxgbclass\u001b[0m\u001b[1;33m.\u001b[0m\u001b[0mfit\u001b[0m\u001b[1;33m(\u001b[0m\u001b[0mtrain_set\u001b[0m\u001b[1;33m,\u001b[0m \u001b[0mtrain_y_label\u001b[0m\u001b[1;33m)\u001b[0m\u001b[1;33m\u001b[0m\u001b[1;33m\u001b[0m\u001b[0m\n\u001b[0;32m      5\u001b[0m \u001b[0my_predict_best\u001b[0m \u001b[1;33m=\u001b[0m \u001b[0mxgbclass\u001b[0m\u001b[1;33m.\u001b[0m\u001b[0mpredict\u001b[0m\u001b[1;33m(\u001b[0m\u001b[0mtest_set\u001b[0m\u001b[1;33m)\u001b[0m\u001b[1;33m\u001b[0m\u001b[1;33m\u001b[0m\u001b[0m\n",
      "\u001b[1;31mNameError\u001b[0m: name 'XGBClassifier' is not defined"
     ]
    }
   ],
   "source": [
    "xgbclass = XGBClassifier(gamma = 1, max_depth=6, eta=0.15, silent=1, max_delta_step = 10, \\\n",
    "                             n_jobs = 8, objective='multi:softmax', num_class=5, reg_alpha = 0 \\\n",
    "                        , scale_pos_weight = -500)\n",
    "xgbclass.fit(train_set, train_y_label)\n",
    "y_predict_best = xgbclass.predict(test_set)\n",
    "eva_fun_2(test_y_label, y_predict_best, \"xgboost\")\n",
    "tune_eva(y_predict_best)"
   ]
  },
  {
   "cell_type": "code",
   "execution_count": 90,
   "metadata": {},
   "outputs": [
    {
     "name": "stdout",
     "output_type": "stream",
     "text": [
      "Algorithm: xgboostclassifier\n",
      "              precision    recall  f1-score   support\n",
      "\n",
      "      normal       0.76      1.00      0.86     60593\n",
      "       probe       0.91      0.77      0.84      4166\n",
      "         dos       0.99      0.97      0.98    231455\n",
      "         u2r       0.68      0.19      0.29        70\n",
      "         r2l       0.00      0.00      0.00     14745\n",
      "\n",
      "    accuracy                           0.92    311029\n",
      "   macro avg       0.67      0.58      0.59    311029\n",
      "weighted avg       0.90      0.92      0.91    311029\n",
      "\n"
     ]
    },
    {
     "data": {
      "text/plain": [
       "0.9236727121908247"
      ]
     },
     "execution_count": 90,
     "metadata": {},
     "output_type": "execute_result"
    }
   ],
   "source": [
    "xgbclass = XGBClassifier(gamma = 1, max_depth=8, eta=0.1, silent=1, max_delta_step = 1, \\\n",
    "                             n_jobs = 8, objective='multi:softmax', num_class=5)\n",
    "xgbclass.fit(train_set, train_y_label)\n",
    "y_predict_best = xgbclass.predict(test_set)\n",
    "eva_fun_2(test_y_label, y_predict_best, \"xgboostclassifier\")\n",
    "tune_eva(y_predict_best)"
   ]
  },
  {
   "cell_type": "markdown",
   "metadata": {},
   "source": [
    "# Recall, Percision, F1-Score"
   ]
  },
  {
   "cell_type": "code",
   "execution_count": 45,
   "metadata": {},
   "outputs": [],
   "source": [
    "# not used\n",
    "def eva_fun (real, predict, algo):\n",
    "    if (len(real) != len(predict)):\n",
    "        print(\"Error: length is not the same\")\n",
    "        return -1\n",
    "    sum_real_arr = real['result'].value_counts().sort_index().values\n",
    "    sum_pre_arr = predict['result'].value_counts().sort_index().values\n",
    "    real = real.astype('int')\n",
    "    predict = predict.astype('int')\n",
    "    # index 1~5 represent five classes\n",
    "    Tp = np.array([0, 0, 0, 0, 0, 0])\n",
    "    for i in range(len(real)):\n",
    "        if (real['result'][i] == predict['result'][i]):\n",
    "            Tp[real['result'][i]] += 1\n",
    "    percision = [0, 0, 0, 0, 0]\n",
    "    recall = [0, 0, 0, 0, 0]\n",
    "    F1 = [0, 0, 0, 0, 0]\n",
    "    for i in range(0, 5):\n",
    "        percision[i] = Tp[(i+1)]/sum_pre_arr[i]\n",
    "        recall[i] = Tp[i+1]/sum_real_arr[i]\n",
    "        F1[i] = 2*(percision[i]*recall[i]/(percision[i]+recall[i]))\n",
    "    percision[0] = Tp[(1)]/sum_pre_arr[0]\n",
    "#     print(Tp[1]/sum_pre_arr[0])\n",
    "    print(\"algorithm: \" + algo + '\\n')\n",
    "    print(\"\\t\\tnormal\\t\\t\\tprobe\\t\\t\\tdos\\t\\t\\tu2r\\t\\t\\tr2l\\n\")\n",
    "    print(\"percision: \\t\" + str(percision[0]) + '\\t' + str(percision[1]) + '\\t' + str(percision[2]) \\\n",
    "          + '\\t' + str(percision[3]) + '\\t' + str(percision[4]) + '\\n' )\n",
    "    print(\"recall: \\t\" + str(recall[0]) + '\\t' + str(recall[1]) + '\\t' + str(recall[2]) \\\n",
    "          + '\\t' + str(recall[3]) + '\\t' + str(recall[4]) + '\\n' )\n",
    "    print(\"F1-score: \\t\" + str(F1[0]) + '\\t' + str(F1[1]) + '\\t' + str(F1[2]) \\\n",
    "          + '\\t' + str(F1[3]) + '\\t' + str(F1[4]) + '\\n' )\n",
    "    print(\"total percision: \" + str(Tp.sum()/sum_pre_arr.sum()) + '\\n')"
   ]
  },
  {
   "cell_type": "code",
   "execution_count": 46,
   "metadata": {
    "scrolled": true
   },
   "outputs": [
    {
     "name": "stdout",
     "output_type": "stream",
     "text": [
      "algorithm: xgboost\n",
      "\n",
      "\t\tnormal\t\t\tprobe\t\t\tdos\t\t\tu2r\t\t\tr2l\n",
      "\n",
      "percision: \t0.039328432442924034\t63.31720430107527\t6.249525705638412e-05\t0.2608695652173913\t0.0\n",
      "\n",
      "recall: \t0.05350453022626376\t53.711713874219875\t6.048691970361409e-05\t0.08571428571428572\t0.0\n",
      "\n",
      "F1-score: \t0.04533409775776601\t58.12025974025974\t6.147468999192047e-05\t0.12903225806451615\tnan\n",
      "\n",
      "total percision: 0.9237530905478267\n",
      "\n"
     ]
    },
    {
     "name": "stderr",
     "output_type": "stream",
     "text": [
      "<ipython-input-45-25f8ff088def>:20: RuntimeWarning: invalid value encountered in double_scalars\n",
      "  F1[i] = 2*(percision[i]*recall[i]/(percision[i]+recall[i]))\n"
     ]
    }
   ],
   "source": [
    "eva_fun(test_y_label, pd.DataFrame(y_predict_clf_xgb, columns=['result']), \"xgboost\")"
   ]
  },
  {
   "cell_type": "code",
   "execution_count": 35,
   "metadata": {},
   "outputs": [],
   "source": [
    "from sklearn.metrics import classification_report\n",
    "def eva_fun_2 (real, predict, algo):\n",
    "    if (len(real) != len(predict)):\n",
    "        print(\"Error: length is not the same\")\n",
    "        return -1\n",
    "    real = real.astype('int')\n",
    "    predict = predict.astype('int')\n",
    "    target_names = ['normal', 'probe', 'dos', 'u2r', 'r2l']\n",
    "    print(\"Algorithm: \" + algo)\n",
    "    print(classification_report(real.astype('int'), predict.astype('int'), target_names=target_names))"
   ]
  },
  {
   "cell_type": "code",
   "execution_count": 36,
   "metadata": {},
   "outputs": [
    {
     "name": "stdout",
     "output_type": "stream",
     "text": [
      "Algorithm: xgboost_PC\n",
      "              precision    recall  f1-score   support\n",
      "\n",
      "      normal       0.73      1.00      0.84     60593\n",
      "       probe       0.93      0.77      0.84      4166\n",
      "         dos       1.00      0.97      0.98    231455\n",
      "         u2r       0.71      0.21      0.33        70\n",
      "         r2l       0.00      0.00      0.00     14745\n",
      "\n",
      "    accuracy                           0.92    311029\n",
      "   macro avg       0.68      0.59      0.60    311029\n",
      "weighted avg       0.90      0.92      0.91    311029\n",
      "\n"
     ]
    }
   ],
   "source": [
    "eva_fun_2(test_y_label, y_predict_clf_xgb, \"xgboost_PC\")"
   ]
  },
  {
   "cell_type": "code",
   "execution_count": 65,
   "metadata": {},
   "outputs": [
    {
     "name": "stdout",
     "output_type": "stream",
     "text": [
      "Algorithm: decision tree\n",
      "              precision    recall  f1-score   support\n",
      "\n",
      "      normal       0.23      0.90      0.37     60593\n",
      "       probe       0.07      0.82      0.14      4166\n",
      "         dos       0.98      0.07      0.14    231455\n",
      "         u2r       0.01      0.51      0.02        70\n",
      "         r2l       0.07      0.03      0.04     14745\n",
      "\n",
      "    accuracy                           0.24    311029\n",
      "   macro avg       0.27      0.47      0.14    311029\n",
      "weighted avg       0.78      0.24      0.18    311029\n",
      "\n",
      "Algorithm: random forest\n",
      "              precision    recall  f1-score   support\n",
      "\n",
      "      normal       0.72      1.00      0.83     60593\n",
      "       probe       0.95      0.72      0.82      4166\n",
      "         dos       1.00      0.96      0.98    231455\n",
      "         u2r       0.00      0.00      0.00        70\n",
      "         r2l       0.00      0.00      0.00     14745\n",
      "\n",
      "    accuracy                           0.92    311029\n",
      "   macro avg       0.53      0.54      0.53    311029\n",
      "weighted avg       0.90      0.92      0.90    311029\n"
     ]
    },
    {
     "name": "stderr",
     "output_type": "stream",
     "text": [
      "d:\\python\\python38\\lib\\site-packages\\sklearn\\metrics\\_classification.py:1272: UndefinedMetricWarning: Precision and F-score are ill-defined and being set to 0.0 in labels with no predicted samples. Use `zero_division` parameter to control this behavior.\n",
      "  _warn_prf(average, modifier, msg_start, len(result))\n"
     ]
    },
    {
     "name": "stdout",
     "output_type": "stream",
     "text": [
      "\n",
      "Algorithm: xgboost\n",
      "              precision    recall  f1-score   support\n",
      "\n",
      "      normal       0.73      0.99      0.84     60593\n",
      "       probe       0.92      0.78      0.84      4166\n",
      "         dos       1.00      0.97      0.98    231455\n",
      "         u2r       0.61      0.20      0.30        70\n",
      "         r2l       0.01      0.00      0.00     14745\n",
      "\n",
      "    accuracy                           0.92    311029\n",
      "   macro avg       0.65      0.59      0.59    311029\n",
      "weighted avg       0.90      0.92      0.91    311029\n",
      "\n",
      "Algorithm: xgboostclassifier\n",
      "              precision    recall  f1-score   support\n",
      "\n",
      "      normal       0.74      1.00      0.85     60593\n",
      "       probe       0.92      0.81      0.86      4166\n",
      "         dos       1.00      0.97      0.98    231455\n",
      "         u2r       0.67      0.17      0.27        70\n",
      "         r2l       0.00      0.00      0.00     14745\n",
      "\n",
      "    accuracy                           0.92    311029\n",
      "   macro avg       0.66      0.59      0.59    311029\n",
      "weighted avg       0.90      0.92      0.91    311029\n",
      "\n"
     ]
    }
   ],
   "source": [
    "# from sklearn.metrics import classification_report\n",
    "# target_names = ['probe', 'dos', 'u2r', 'r2l', 'normal']\n",
    "# print(classification_report(test_y_label.astype('int'), y_predict_clf_xgb.astype('int'), target_names=target_names))\n",
    "eva_fun_2(test_y_label, y_predict_clf_dt, \"decision tree\")\n",
    "eva_fun_2(test_y_label, y_predict_clf_rf, \"random forest\")\n",
    "eva_fun_2(test_y_label, y_predict_clf_xgb, \"xgboost\")\n",
    "eva_fun_2(test_y_label, y_predict_clf_xgbclassifier, \"xgboostclassifier\")"
   ]
  },
  {
   "cell_type": "markdown",
   "metadata": {},
   "source": [
    "# Confusion matrix"
   ]
  },
  {
   "cell_type": "code",
   "execution_count": 50,
   "metadata": {},
   "outputs": [],
   "source": [
    "from sklearn.metrics import confusion_matrix"
   ]
  },
  {
   "cell_type": "code",
   "execution_count": 51,
   "metadata": {},
   "outputs": [],
   "source": [
    "def eva_confusion_matrix(real, predict, algo):\n",
    "    real = real.astype('int')\n",
    "    predict = predict.astype('int')\n",
    "    m = confusion_matrix(real, predict, normalize = 'true')\n",
    "    df_cm = pd.DataFrame(m, index = ['normal', 'probe', 'dos', 'u2r', 'r2l'],\n",
    "                      columns = ['normal', 'probe', 'dos', 'u2r', 'r2l'])\n",
    "    plt.figure(figsize = (10,7))\n",
    "    print(\"Algorithm: \" + algo)\n",
    "    sns.heatmap(df_cm, annot=True)"
   ]
  },
  {
   "cell_type": "code",
   "execution_count": 52,
   "metadata": {
    "scrolled": false
   },
   "outputs": [
    {
     "name": "stdout",
     "output_type": "stream",
     "text": [
      "Algorithm: decision tree\n"
     ]
    },
    {
     "data": {
      "image/png": "[encoded data removed]",
      "text/plain": [
       "<Figure size 720x504 with 2 Axes>"
      ]
     },
     "metadata": {},
     "output_type": "display_data"
    }
   ],
   "source": [
    "eva_confusion_matrix(test_y_label, y_predict_clf_dt, \"decision tree\");"
   ]
  },
  {
   "cell_type": "code",
   "execution_count": 53,
   "metadata": {},
   "outputs": [
    {
     "name": "stdout",
     "output_type": "stream",
     "text": [
      "Algorithm: random forest\n"
     ]
    },
    {
     "data": {
      "image/png": "[encoded data removed]",
      "text/plain": [
       "<Figure size 720x504 with 2 Axes>"
      ]
     },
     "metadata": {},
     "output_type": "display_data"
    }
   ],
   "source": [
    "eva_confusion_matrix(test_y_label, y_predict_clf_rf, \"random forest\");"
   ]
  },
  {
   "cell_type": "code",
   "execution_count": 54,
   "metadata": {},
   "outputs": [
    {
     "name": "stdout",
     "output_type": "stream",
     "text": [
      "Algorithm: xgboost\n"
     ]
    },
    {
     "data": {
      "image/png": "[encoded data removed]",
      "text/plain": [
       "<Figure size 720x504 with 2 Axes>"
      ]
     },
     "metadata": {},
     "output_type": "display_data"
    }
   ],
   "source": [
    "eva_confusion_matrix(test_y_label, y_predict_clf_xgb, \"xgboost\");"
   ]
  },
  {
   "cell_type": "code",
   "execution_count": null,
   "metadata": {},
   "outputs": [],
   "source": []
  }
 ],
 "metadata": {
  "kernelspec": {
   "display_name": "Python 3",
   "language": "python",
   "name": "python3"
  },
  "language_info": {
   "codemirror_mode": {
    "name": "ipython",
    "version": 3
   },
   "file_extension": ".py",
   "mimetype": "text/x-python",
   "name": "python",
   "nbconvert_exporter": "python",
   "pygments_lexer": "ipython3",
   "version": "3.8.1"
  }
 },
 "nbformat": 4,
 "nbformat_minor": 4
}
